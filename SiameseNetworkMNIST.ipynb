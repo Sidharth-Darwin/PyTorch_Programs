{
  "nbformat": 4,
  "nbformat_minor": 0,
  "metadata": {
    "colab": {
      "provenance": [],
      "gpuType": "T4",
      "mount_file_id": "1vW_7qkR2edm1a1X3bpK5BC2sfdj76vH6",
      "authorship_tag": "ABX9TyMvZcDwbbB9rFBjLXX1eZd7",
      "include_colab_link": true
    },
    "kernelspec": {
      "name": "python3",
      "display_name": "Python 3"
    },
    "language_info": {
      "name": "python"
    },
    "accelerator": "GPU"
  },
  "cells": [
    {
      "cell_type": "markdown",
      "metadata": {
        "id": "view-in-github",
        "colab_type": "text"
      },
      "source": [
        "<a href=\"https://colab.research.google.com/github/Sidharth-Darwin/PyTorch_Programs/blob/main/SiameseNetworkMNIST.ipynb\" target=\"_parent\"><img src=\"https://colab.research.google.com/assets/colab-badge.svg\" alt=\"Open In Colab\"/></a>"
      ]
    },
    {
      "cell_type": "code",
      "execution_count": 199,
      "metadata": {
        "id": "Ix4j7JAdQG2D"
      },
      "outputs": [],
      "source": [
        "import random\n",
        "import numpy as np\n",
        "import pandas as pd\n",
        "import torch\n",
        "import torch.nn as nn\n",
        "import torch.nn.functional as F\n",
        "from torch.utils.data import DataLoader, Dataset\n",
        "import torchvision\n",
        "from torchvision.datasets import mnist\n",
        "from torchvision.transforms import Compose, ToTensor"
      ]
    },
    {
      "cell_type": "code",
      "source": [
        "transform = Compose([ToTensor(),])\n",
        "\n",
        "train = mnist.MNIST(root=\"/content/data\", train=True, transform=transform, download=True)\n",
        "test = mnist.MNIST(root=\"/content/data\", train=False, transform=transform, download=True)"
      ],
      "metadata": {
        "id": "A8GrD8sXQrl8"
      },
      "execution_count": 200,
      "outputs": []
    },
    {
      "cell_type": "code",
      "source": [
        "len(train), len(test)"
      ],
      "metadata": {
        "colab": {
          "base_uri": "https://localhost:8080/"
        },
        "id": "SAqmnWjMR7z-",
        "outputId": "4c6abcb2-e620-4180-add4-d78bb066d82e"
      },
      "execution_count": 201,
      "outputs": [
        {
          "output_type": "execute_result",
          "data": {
            "text/plain": [
              "(60000, 10000)"
            ]
          },
          "metadata": {},
          "execution_count": 201
        }
      ]
    },
    {
      "cell_type": "code",
      "source": [
        "class SNDataset(Dataset):\n",
        "    def __init__(self, ds):\n",
        "        self.ds = ds\n",
        "        self.len = len(ds)\n",
        "\n",
        "    def __len__(self):\n",
        "        return self.len\n",
        "\n",
        "    def __getitem__(self, idx):\n",
        "        img1, lab1 = self.ds[idx]\n",
        "        same_or_diff_label = random.randint(0, 1)\n",
        "        if same_or_diff_label==1:\n",
        "            lab2 = lab1\n",
        "            while lab2 == lab1:\n",
        "                img2, lab2 = self.ds[random.randint(0, self.len-1)]\n",
        "        else:\n",
        "            lab2 = -1\n",
        "            while lab2 != lab1:\n",
        "                img2, lab2 = self.ds[random.randint(0, self.len-1)]\n",
        "        return (img1,\n",
        "                img2,\n",
        "                torch.tensor([same_or_diff_label], dtype=torch.float32))\n",
        ""
      ],
      "metadata": {
        "id": "6HxejIvFSDMz"
      },
      "execution_count": 202,
      "outputs": []
    },
    {
      "cell_type": "code",
      "source": [
        "train_ds = SNDataset(train)\n",
        "test_ds = SNDataset(test)"
      ],
      "metadata": {
        "id": "fVFUWlTRT2PT"
      },
      "execution_count": 203,
      "outputs": []
    },
    {
      "cell_type": "code",
      "source": [
        "len(train_ds), len(test_ds)"
      ],
      "metadata": {
        "colab": {
          "base_uri": "https://localhost:8080/"
        },
        "id": "vHxW32ACT2Ri",
        "outputId": "babba780-73db-4742-c568-5056e5cf1077"
      },
      "execution_count": 204,
      "outputs": [
        {
          "output_type": "execute_result",
          "data": {
            "text/plain": [
              "(60000, 10000)"
            ]
          },
          "metadata": {},
          "execution_count": 204
        }
      ]
    },
    {
      "cell_type": "code",
      "source": [
        "del train"
      ],
      "metadata": {
        "id": "UFc27KJ9T2Tq"
      },
      "execution_count": 205,
      "outputs": []
    },
    {
      "cell_type": "code",
      "source": [
        "batch_size = 64\n",
        "\n",
        "train_dl = DataLoader(\n",
        "    train_ds,\n",
        "    batch_size=batch_size,\n",
        "    shuffle=True\n",
        ")"
      ],
      "metadata": {
        "id": "mYpTYAwEkE1Q"
      },
      "execution_count": 206,
      "outputs": []
    },
    {
      "cell_type": "code",
      "source": [
        "len(train_dl)"
      ],
      "metadata": {
        "colab": {
          "base_uri": "https://localhost:8080/"
        },
        "id": "G9UOUnsJltQp",
        "outputId": "fce0ba9d-86b6-4c37-ace7-913e268bea6d"
      },
      "execution_count": 207,
      "outputs": [
        {
          "output_type": "execute_result",
          "data": {
            "text/plain": [
              "938"
            ]
          },
          "metadata": {},
          "execution_count": 207
        }
      ]
    },
    {
      "cell_type": "code",
      "source": [
        "class SiameseNetwork(nn.Module):\n",
        "    def __init__(self):\n",
        "        super(SiameseNetwork, self).__init__()\n",
        "        self.model = nn.Sequential(\n",
        "            nn.Conv2d(in_channels=1, out_channels=64, kernel_size=5, stride=1, padding=2),\n",
        "            nn.ReLU(inplace=True),\n",
        "            nn.MaxPool2d(kernel_size=2, stride=2),\n",
        "\n",
        "            nn.Conv2d(in_channels=64, out_channels=128, kernel_size=5, stride=1, padding=2),\n",
        "            nn.ReLU(inplace=True),\n",
        "            nn.MaxPool2d(kernel_size=2, stride=2),\n",
        "\n",
        "            nn.Conv2d(in_channels=128, out_channels=256, kernel_size=3, stride=1, padding=1),\n",
        "            nn.ReLU(inplace=True),\n",
        "            nn.MaxPool2d(kernel_size=2, stride=2),\n",
        "\n",
        "            nn.Flatten(),\n",
        "\n",
        "            nn.Linear(in_features=256*3*3, out_features=1024),\n",
        "            nn.ReLU(inplace=True),\n",
        "            nn.Linear(in_features=1024, out_features=256),\n",
        "            nn.ReLU(inplace=True),\n",
        "            nn.Linear(in_features=256, out_features=2)\n",
        "        )\n",
        "\n",
        "    def forward(self, img1, img2):\n",
        "        out1 = self.model(img1)\n",
        "        out2 = self.model(img2)\n",
        "        return out1, out2\n"
      ],
      "metadata": {
        "id": "sps45IlLUwBh"
      },
      "execution_count": 208,
      "outputs": []
    },
    {
      "cell_type": "code",
      "source": [
        "sn_model = SiameseNetwork()\n",
        "sn_model"
      ],
      "metadata": {
        "colab": {
          "base_uri": "https://localhost:8080/"
        },
        "id": "pl95CpHqWqDk",
        "outputId": "1c7c00df-6c06-4f71-f4dc-f2903f2e214e"
      },
      "execution_count": 209,
      "outputs": [
        {
          "output_type": "execute_result",
          "data": {
            "text/plain": [
              "SiameseNetwork(\n",
              "  (model): Sequential(\n",
              "    (0): Conv2d(1, 64, kernel_size=(5, 5), stride=(1, 1), padding=(2, 2))\n",
              "    (1): ReLU(inplace=True)\n",
              "    (2): MaxPool2d(kernel_size=2, stride=2, padding=0, dilation=1, ceil_mode=False)\n",
              "    (3): Conv2d(64, 128, kernel_size=(5, 5), stride=(1, 1), padding=(2, 2))\n",
              "    (4): ReLU(inplace=True)\n",
              "    (5): MaxPool2d(kernel_size=2, stride=2, padding=0, dilation=1, ceil_mode=False)\n",
              "    (6): Conv2d(128, 256, kernel_size=(3, 3), stride=(1, 1), padding=(1, 1))\n",
              "    (7): ReLU(inplace=True)\n",
              "    (8): MaxPool2d(kernel_size=2, stride=2, padding=0, dilation=1, ceil_mode=False)\n",
              "    (9): Flatten(start_dim=1, end_dim=-1)\n",
              "    (10): Linear(in_features=2304, out_features=1024, bias=True)\n",
              "    (11): ReLU(inplace=True)\n",
              "    (12): Linear(in_features=1024, out_features=256, bias=True)\n",
              "    (13): ReLU(inplace=True)\n",
              "    (14): Linear(in_features=256, out_features=2, bias=True)\n",
              "  )\n",
              ")"
            ]
          },
          "metadata": {},
          "execution_count": 209
        }
      ]
    },
    {
      "cell_type": "code",
      "source": [
        "def distance_images(emb1, emb2):\n",
        "    # Eucledian Distance\n",
        "    d = F.pairwise_distance(emb1, emb2, keepdims=True)\n",
        "    return d"
      ],
      "metadata": {
        "id": "WKmyu30fZcj2"
      },
      "execution_count": 210,
      "outputs": []
    },
    {
      "cell_type": "code",
      "source": [
        "class ContrastiveLoss(nn.Module):\n",
        "    def __init__(self, margin=2):\n",
        "        super(ContrastiveLoss, self).__init__()\n",
        "        self.margin = margin\n",
        "\n",
        "    def forward(self, emb1, emb2, label):\n",
        "        D = distance_images(emb1, emb2)\n",
        "        same_loss = (1 - label) * (D ** 2)\n",
        "        diff_loss = label * (torch.clamp(self.margin - D, min=0.0) ** 2)\n",
        "        return torch.mean(same_loss + diff_loss)"
      ],
      "metadata": {
        "id": "wTgUwLErWwzF"
      },
      "execution_count": 211,
      "outputs": []
    },
    {
      "cell_type": "code",
      "source": [
        "loss_fn = ContrastiveLoss()\n",
        "# loss_fn(torch.randn(32, 10), torch.randn(32, 10), 1)\n",
        "loss_fn"
      ],
      "metadata": {
        "colab": {
          "base_uri": "https://localhost:8080/"
        },
        "id": "w6tk8os7bta2",
        "outputId": "dbbdda8d-b65d-4efa-f456-86ae751a11b6"
      },
      "execution_count": 212,
      "outputs": [
        {
          "output_type": "execute_result",
          "data": {
            "text/plain": [
              "ContrastiveLoss()"
            ]
          },
          "metadata": {},
          "execution_count": 212
        }
      ]
    },
    {
      "cell_type": "code",
      "source": [
        "optimizer = torch.optim.AdamW(sn_model.parameters(), lr=0.001)\n",
        "optimizer"
      ],
      "metadata": {
        "colab": {
          "base_uri": "https://localhost:8080/"
        },
        "id": "qY-3k3jnkCbx",
        "outputId": "e3492b54-b1da-46fb-f82d-9365c83f91f7"
      },
      "execution_count": 213,
      "outputs": [
        {
          "output_type": "execute_result",
          "data": {
            "text/plain": [
              "AdamW (\n",
              "Parameter Group 0\n",
              "    amsgrad: False\n",
              "    betas: (0.9, 0.999)\n",
              "    capturable: False\n",
              "    differentiable: False\n",
              "    eps: 1e-08\n",
              "    foreach: None\n",
              "    fused: None\n",
              "    lr: 0.001\n",
              "    maximize: False\n",
              "    weight_decay: 0.01\n",
              ")"
            ]
          },
          "metadata": {},
          "execution_count": 213
        }
      ]
    },
    {
      "cell_type": "code",
      "source": [
        "device = \"cuda\" if torch.cuda.is_available() else \"cpu\"\n",
        "device"
      ],
      "metadata": {
        "colab": {
          "base_uri": "https://localhost:8080/",
          "height": 35
        },
        "id": "8cSIdSLnlMKS",
        "outputId": "618eef5a-b458-4b28-8021-99aaea4a2126"
      },
      "execution_count": 214,
      "outputs": [
        {
          "output_type": "execute_result",
          "data": {
            "text/plain": [
              "'cuda'"
            ],
            "application/vnd.google.colaboratory.intrinsic+json": {
              "type": "string"
            }
          },
          "metadata": {},
          "execution_count": 214
        }
      ]
    },
    {
      "cell_type": "code",
      "source": [
        "sn_model = sn_model.to(device)"
      ],
      "metadata": {
        "id": "mdSloZ90lTtX"
      },
      "execution_count": 215,
      "outputs": []
    },
    {
      "cell_type": "code",
      "source": [
        "n_epochs = 100\n",
        "prev_loss = 1000000\n",
        "prev_weights = None\n",
        "print(\"Training ...\")\n",
        "for i in range(n_epochs):\n",
        "    epoch_loss = 0\n",
        "    for img1, img2, label in train_dl:\n",
        "        img1 = img1.to(device)\n",
        "        img2 = img2.to(device)\n",
        "        label = label.to(device)\n",
        "        emb1, emb2 = sn_model(img1, img2)\n",
        "        loss = loss_fn(emb1, emb2, label)\n",
        "        optimizer.zero_grad()\n",
        "        loss.backward()\n",
        "        optimizer.step()\n",
        "        epoch_loss += loss.item()\n",
        "    print(f\"Epoch {i+1} Loss {epoch_loss:.4f}\")\n",
        "    if epoch_loss > prev_loss:\n",
        "        print(\"Earlystopping\")\n",
        "        sn_model.load_state_dict(prev_weights)\n",
        "        break\n",
        "    prev_loss = epoch_loss\n",
        "    prev_weights = sn_model.state_dict()"
      ],
      "metadata": {
        "colab": {
          "base_uri": "https://localhost:8080/"
        },
        "id": "2N4lFCMmcEv9",
        "outputId": "3ba15d6e-470b-4d00-88fe-658bb18954da"
      },
      "execution_count": 216,
      "outputs": [
        {
          "output_type": "stream",
          "name": "stdout",
          "text": [
            "Training ...\n",
            "Epoch 1 Loss 272.0584\n",
            "Epoch 2 Loss 94.9567\n",
            "Epoch 3 Loss 56.6032\n",
            "Epoch 4 Loss 37.2997\n",
            "Epoch 5 Loss 32.9754\n",
            "Epoch 6 Loss 25.5717\n",
            "Epoch 7 Loss 23.2852\n",
            "Epoch 8 Loss 15.3044\n",
            "Epoch 9 Loss 14.8905\n",
            "Epoch 10 Loss 16.3418\n",
            "Earlystopping\n"
          ]
        }
      ]
    },
    {
      "cell_type": "code",
      "source": [
        "similarity_score = lambda emb1, emb2: torch.exp(-distance_images(emb1, emb2))"
      ],
      "metadata": {
        "id": "eX-YJXHxtBJi"
      },
      "execution_count": 217,
      "outputs": []
    },
    {
      "cell_type": "code",
      "source": [
        "for i in range(10):\n",
        "    img1, img2, label = random.choice(test_ds)\n",
        "    img1, img2, label = img1.to(device), img2.to(device), label.to(device)\n",
        "    img1, img2 = img1.unsqueeze(0), img2.unsqueeze(0)\n",
        "    emb1, emb2 = sn_model(img1, img2)\n",
        "    print(f\"{'Diff' if label.item()==1 else 'Same'}\\tSimilarity: {similarity_score(emb1, emb2).item()*100:.2f}%\")"
      ],
      "metadata": {
        "colab": {
          "base_uri": "https://localhost:8080/"
        },
        "id": "yPeR64QQtBMA",
        "outputId": "ae564849-96ca-410e-dc4c-b0ff0407363a"
      },
      "execution_count": 237,
      "outputs": [
        {
          "output_type": "stream",
          "name": "stdout",
          "text": [
            "Same\tSimilarity: 92.49%\n",
            "Diff\tSimilarity: 10.57%\n",
            "Same\tSimilarity: 95.09%\n",
            "Diff\tSimilarity: 10.53%\n",
            "Diff\tSimilarity: 1.29%\n",
            "Diff\tSimilarity: 11.40%\n",
            "Diff\tSimilarity: 2.29%\n",
            "Diff\tSimilarity: 1.88%\n",
            "Same\tSimilarity: 97.37%\n",
            "Diff\tSimilarity: 11.81%\n"
          ]
        }
      ]
    },
    {
      "cell_type": "code",
      "source": [
        "torch.save(sn_model, f='model.pth')"
      ],
      "metadata": {
        "id": "HXdrYn2NtBOK"
      },
      "execution_count": 239,
      "outputs": []
    },
    {
      "cell_type": "code",
      "source": [
        "model = torch.load(f=\"model.pth\")"
      ],
      "metadata": {
        "colab": {
          "base_uri": "https://localhost:8080/"
        },
        "id": "cAfde5NvtBQJ",
        "outputId": "00ccbe97-c6e0-4c9c-8641-60c1d39097fa"
      },
      "execution_count": 240,
      "outputs": [
        {
          "output_type": "stream",
          "name": "stderr",
          "text": [
            "<ipython-input-240-4d32d9e85c48>:1: FutureWarning: You are using `torch.load` with `weights_only=False` (the current default value), which uses the default pickle module implicitly. It is possible to construct malicious pickle data which will execute arbitrary code during unpickling (See https://github.com/pytorch/pytorch/blob/main/SECURITY.md#untrusted-models for more details). In a future release, the default value for `weights_only` will be flipped to `True`. This limits the functions that could be executed during unpickling. Arbitrary objects will no longer be allowed to be loaded via this mode unless they are explicitly allowlisted by the user via `torch.serialization.add_safe_globals`. We recommend you start setting `weights_only=True` for any use case where you don't have full control of the loaded file. Please open an issue on GitHub for any issues related to this experimental feature.\n",
            "  model = torch.load(f=\"model.pth\")\n"
          ]
        }
      ]
    },
    {
      "cell_type": "code",
      "source": [
        "import matplotlib.pyplot as plt"
      ],
      "metadata": {
        "id": "6ZCaU305CQum"
      },
      "execution_count": 242,
      "outputs": []
    },
    {
      "cell_type": "code",
      "source": [
        "n_egs = 10\n",
        "fig, axs = plt.subplots(nrows=n_egs, ncols=3, figsize=(4, 13))\n",
        "for i in range(n_egs):\n",
        "    img1, img2, label = random.choice(test_ds)\n",
        "    img1, img2, label = img1.to(device), img2.to(device), label.to(device)\n",
        "    img1, img2 = img1.unsqueeze(0), img2.unsqueeze(0)\n",
        "    emb1, emb2 = sn_model(img1, img2)\n",
        "    s_score = similarity_score(emb1, emb2).item()*100\n",
        "    axs[i][0].imshow(img1.cpu().numpy().squeeze())\n",
        "    axs[i][1].imshow(img2.cpu().numpy().squeeze())\n",
        "    axs[i][2].text(0, 0, f\"{'Same' if label.item()==0 else 'Different'} images with Similarity score: {s_score:.2f}\")\n",
        "    axs[i][0].axis(False)\n",
        "    axs[i][1].axis(False)\n",
        "    axs[i][2].axis(False)\n",
        "fig.tight_layout()\n",
        "plt.plot()"
      ],
      "metadata": {
        "colab": {
          "base_uri": "https://localhost:8080/",
          "height": 1000
        },
        "id": "5wiqk49XCbqH",
        "outputId": "bed1f55b-d56a-4397-9f4e-3dd7291286e1"
      },
      "execution_count": 252,
      "outputs": [
        {
          "output_type": "execute_result",
          "data": {
            "text/plain": [
              "[]"
            ]
          },
          "metadata": {},
          "execution_count": 252
        },
        {
          "output_type": "display_data",
          "data": {
            "text/plain": [
              "<Figure size 400x1300 with 30 Axes>"
            ],
            "image/png": "[encoded data removed]"
          },
          "metadata": {}
        }
      ]
    },
    {
      "cell_type": "code",
      "source": [],
      "metadata": {
        "id": "omYxljghDXwE"
      },
      "execution_count": null,
      "outputs": []
    }
  ]
}