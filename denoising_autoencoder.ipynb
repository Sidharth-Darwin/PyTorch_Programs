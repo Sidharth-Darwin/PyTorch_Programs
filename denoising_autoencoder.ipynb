{
  "nbformat": 4,
  "nbformat_minor": 0,
  "metadata": {
    "colab": {
      "provenance": [],
      "gpuType": "T4",
      "authorship_tag": "ABX9TyM6UBNpL/Q8YSna8tQn2mDu",
      "include_colab_link": true
    },
    "kernelspec": {
      "name": "python3",
      "display_name": "Python 3"
    },
    "language_info": {
      "name": "python"
    },
    "accelerator": "GPU"
  },
  "cells": [
    {
      "cell_type": "markdown",
      "metadata": {
        "id": "view-in-github",
        "colab_type": "text"
      },
      "source": [
        "<a href=\"https://colab.research.google.com/github/Sidharth-Darwin/PyTorch_Programs/blob/main/denoising_autoencoder.ipynb\" target=\"_parent\"><img src=\"https://colab.research.google.com/assets/colab-badge.svg\" alt=\"Open In Colab\"/></a>"
      ]
    },
    {
      "cell_type": "code",
      "execution_count": 1,
      "metadata": {
        "id": "bO2X3iLri7nA"
      },
      "outputs": [],
      "source": [
        "import os\n",
        "import numpy as np\n",
        "import torch\n",
        "import torch.nn as nn\n",
        "from torch.utils.data import DataLoader, Dataset\n",
        "import torchvision\n",
        "from torchvision.transforms import ToTensor\n",
        "from torchvision.datasets import MNIST\n",
        "import matplotlib.pyplot as plt"
      ]
    },
    {
      "cell_type": "code",
      "source": [
        "np.random.seed(42)\n",
        "torch.manual_seed(42)"
      ],
      "metadata": {
        "colab": {
          "base_uri": "https://localhost:8080/"
        },
        "id": "djODJZf-1RzM",
        "outputId": "41d685a9-5e96-4975-d1d3-7558a930c4e3"
      },
      "execution_count": 4,
      "outputs": [
        {
          "output_type": "execute_result",
          "data": {
            "text/plain": [
              "<torch._C.Generator at 0x7a8488a48c70>"
            ]
          },
          "metadata": {},
          "execution_count": 4
        }
      ]
    },
    {
      "cell_type": "code",
      "source": [
        "device = torch.device(\"cuda\" if torch.cuda.is_available() else \"cpu\")\n",
        "print(device)"
      ],
      "metadata": {
        "colab": {
          "base_uri": "https://localhost:8080/"
        },
        "id": "rUaQWMwioh5K",
        "outputId": "a53a538c-37b4-4494-bc83-3401c480c27c"
      },
      "execution_count": 5,
      "outputs": [
        {
          "output_type": "stream",
          "name": "stdout",
          "text": [
            "cuda\n"
          ]
        }
      ]
    },
    {
      "cell_type": "code",
      "source": [
        "class NoisyMNIST(Dataset):\n",
        "    def __init__(self, img_data_path, train=True, noise_factor=0.2):\n",
        "        super(NoisyMNIST, self).__init__()\n",
        "        self.img_data_path = img_data_path\n",
        "        self.img_transforms = ToTensor()\n",
        "        self.noise_factor = noise_factor\n",
        "        self.train = train\n",
        "        if self.train:\n",
        "            self.mnist_df = MNIST(self.img_data_path, transform=self.img_transforms, train=True, download=True)\n",
        "        else:\n",
        "            self.mnist_df = MNIST(self.img_data_path, transform=self.img_transforms, train=False, download=True)\n",
        "        self.len = len(self.mnist_df)\n",
        "\n",
        "    def __len__(self):\n",
        "        return self.len\n",
        "\n",
        "    def __getitem__(self, index):\n",
        "        clean_img, _ = self.mnist_df[index]\n",
        "        noisy_img = clean_img + self.noise_factor * torch.randn_like(clean_img)\n",
        "        noisy_img = torch.clip(noisy_img, 0.0, 1.0)\n",
        "\n",
        "        return (noisy_img, clean_img)"
      ],
      "metadata": {
        "id": "P8GeYZXvjcRe"
      },
      "execution_count": 6,
      "outputs": []
    },
    {
      "cell_type": "code",
      "source": [
        "train_ds = NoisyMNIST(\"/content/data\")\n",
        "test_ds = NoisyMNIST(\"/content/data\", train=False)"
      ],
      "metadata": {
        "id": "wpYbA6kQjy0A",
        "colab": {
          "base_uri": "https://localhost:8080/"
        },
        "outputId": "c4e84a23-cf3c-4b3b-f76f-93ec83e59ec7"
      },
      "execution_count": 7,
      "outputs": [
        {
          "output_type": "stream",
          "name": "stdout",
          "text": [
            "Downloading http://yann.lecun.com/exdb/mnist/train-images-idx3-ubyte.gz\n",
            "Failed to download (trying next):\n",
            "<urlopen error [SSL: CERTIFICATE_VERIFY_FAILED] certificate verify failed: certificate has expired (_ssl.c:1007)>\n",
            "\n",
            "Downloading https://ossci-datasets.s3.amazonaws.com/mnist/train-images-idx3-ubyte.gz\n",
            "Downloading https://ossci-datasets.s3.amazonaws.com/mnist/train-images-idx3-ubyte.gz to /content/data/MNIST/raw/train-images-idx3-ubyte.gz\n"
          ]
        },
        {
          "output_type": "stream",
          "name": "stderr",
          "text": [
            "100%|██████████| 9912422/9912422 [00:00<00:00, 58920906.67it/s]\n"
          ]
        },
        {
          "output_type": "stream",
          "name": "stdout",
          "text": [
            "Extracting /content/data/MNIST/raw/train-images-idx3-ubyte.gz to /content/data/MNIST/raw\n",
            "\n",
            "Downloading http://yann.lecun.com/exdb/mnist/train-labels-idx1-ubyte.gz\n",
            "Failed to download (trying next):\n",
            "<urlopen error [SSL: CERTIFICATE_VERIFY_FAILED] certificate verify failed: certificate has expired (_ssl.c:1007)>\n",
            "\n",
            "Downloading https://ossci-datasets.s3.amazonaws.com/mnist/train-labels-idx1-ubyte.gz\n",
            "Downloading https://ossci-datasets.s3.amazonaws.com/mnist/train-labels-idx1-ubyte.gz to /content/data/MNIST/raw/train-labels-idx1-ubyte.gz\n"
          ]
        },
        {
          "output_type": "stream",
          "name": "stderr",
          "text": [
            "100%|██████████| 28881/28881 [00:00<00:00, 1901718.95it/s]"
          ]
        },
        {
          "output_type": "stream",
          "name": "stdout",
          "text": [
            "Extracting /content/data/MNIST/raw/train-labels-idx1-ubyte.gz to /content/data/MNIST/raw\n",
            "\n",
            "Downloading http://yann.lecun.com/exdb/mnist/t10k-images-idx3-ubyte.gz\n"
          ]
        },
        {
          "output_type": "stream",
          "name": "stderr",
          "text": [
            "\n"
          ]
        },
        {
          "output_type": "stream",
          "name": "stdout",
          "text": [
            "Failed to download (trying next):\n",
            "<urlopen error [SSL: CERTIFICATE_VERIFY_FAILED] certificate verify failed: certificate has expired (_ssl.c:1007)>\n",
            "\n",
            "Downloading https://ossci-datasets.s3.amazonaws.com/mnist/t10k-images-idx3-ubyte.gz\n",
            "Downloading https://ossci-datasets.s3.amazonaws.com/mnist/t10k-images-idx3-ubyte.gz to /content/data/MNIST/raw/t10k-images-idx3-ubyte.gz\n"
          ]
        },
        {
          "output_type": "stream",
          "name": "stderr",
          "text": [
            "100%|██████████| 1648877/1648877 [00:00<00:00, 14559679.41it/s]\n"
          ]
        },
        {
          "output_type": "stream",
          "name": "stdout",
          "text": [
            "Extracting /content/data/MNIST/raw/t10k-images-idx3-ubyte.gz to /content/data/MNIST/raw\n",
            "\n",
            "Downloading http://yann.lecun.com/exdb/mnist/t10k-labels-idx1-ubyte.gz\n",
            "Failed to download (trying next):\n",
            "<urlopen error [SSL: CERTIFICATE_VERIFY_FAILED] certificate verify failed: certificate has expired (_ssl.c:1007)>\n",
            "\n",
            "Downloading https://ossci-datasets.s3.amazonaws.com/mnist/t10k-labels-idx1-ubyte.gz\n",
            "Downloading https://ossci-datasets.s3.amazonaws.com/mnist/t10k-labels-idx1-ubyte.gz to /content/data/MNIST/raw/t10k-labels-idx1-ubyte.gz\n"
          ]
        },
        {
          "output_type": "stream",
          "name": "stderr",
          "text": [
            "100%|██████████| 4542/4542 [00:00<00:00, 4641941.71it/s]"
          ]
        },
        {
          "output_type": "stream",
          "name": "stdout",
          "text": [
            "Extracting /content/data/MNIST/raw/t10k-labels-idx1-ubyte.gz to /content/data/MNIST/raw\n",
            "\n"
          ]
        },
        {
          "output_type": "stream",
          "name": "stderr",
          "text": [
            "\n"
          ]
        }
      ]
    },
    {
      "cell_type": "code",
      "source": [
        "len(train_ds), len(test_ds)"
      ],
      "metadata": {
        "colab": {
          "base_uri": "https://localhost:8080/"
        },
        "id": "KFZx15GrkAyP",
        "outputId": "a8385e8f-5973-458a-d4b4-e66ebbd608db"
      },
      "execution_count": 8,
      "outputs": [
        {
          "output_type": "execute_result",
          "data": {
            "text/plain": [
              "(60000, 10000)"
            ]
          },
          "metadata": {},
          "execution_count": 8
        }
      ]
    },
    {
      "cell_type": "code",
      "source": [
        "def compare_noisy_clean_output(noisy, clean, output=None):\n",
        "    noisy = noisy.detach().cpu().squeeze()\n",
        "    clean = clean.detach().cpu().squeeze()\n",
        "    if output is None:\n",
        "        fig, axs = plt.subplots(1, 2)\n",
        "        fig.suptitle(\"Noisy vs Clean\")\n",
        "        axs[0].imshow(noisy, cmap=\"binary\")\n",
        "        axs[0].set_title(\"Noisy\")\n",
        "        axs[0].axis(\"off\")\n",
        "        axs[1].imshow(clean, cmap=\"binary\")\n",
        "        axs[1].set_title(\"Clean\")\n",
        "        axs[1].axis(\"off\")\n",
        "    else:\n",
        "        output = output.detach().cpu().squeeze()\n",
        "        fig, axs = plt.subplots(1, 3)\n",
        "        fig.suptitle(\"Noisy vs Clean vs Output\")\n",
        "        axs[0].imshow(noisy, cmap=\"binary\")\n",
        "        axs[0].set_title(\"Noisy\")\n",
        "        axs[0].axis(\"off\")\n",
        "        axs[1].imshow(clean, cmap=\"binary\")\n",
        "        axs[1].set_title(\"Clean\")\n",
        "        axs[1].axis(\"off\")\n",
        "        axs[2].imshow(output, cmap=\"binary\")\n",
        "        axs[2].set_title(\"Output\")\n",
        "        axs[2].axis(\"off\")\n",
        "    plt.tight_layout()\n",
        "    plt.show()"
      ],
      "metadata": {
        "id": "3YULLo2oww6y"
      },
      "execution_count": 9,
      "outputs": []
    },
    {
      "cell_type": "code",
      "source": [
        "noisy, clean = train_ds[5]\n",
        "compare_noisy_clean_output(noisy, clean)"
      ],
      "metadata": {
        "colab": {
          "base_uri": "https://localhost:8080/",
          "height": 432
        },
        "id": "_Vwl7LU_kiba",
        "outputId": "87c8c1a0-e847-40f7-d169-897061c8c25e"
      },
      "execution_count": 10,
      "outputs": [
        {
          "output_type": "display_data",
          "data": {
            "text/plain": [
              "<Figure size 640x480 with 2 Axes>"
            ],
            "image/png": "[encoded data removed]"
          },
          "metadata": {}
        }
      ]
    },
    {
      "cell_type": "code",
      "source": [
        "noisy.shape, clean.shape"
      ],
      "metadata": {
        "colab": {
          "base_uri": "https://localhost:8080/"
        },
        "id": "8-67I4j6lcP_",
        "outputId": "4fa80d31-4360-4f30-a258-23ddcedc8249"
      },
      "execution_count": 11,
      "outputs": [
        {
          "output_type": "execute_result",
          "data": {
            "text/plain": [
              "(torch.Size([1, 28, 28]), torch.Size([1, 28, 28]))"
            ]
          },
          "metadata": {},
          "execution_count": 11
        }
      ]
    },
    {
      "cell_type": "code",
      "source": [
        "batch_size = 32\n",
        "\n",
        "train_dl = DataLoader(\n",
        "    train_ds,\n",
        "    batch_size=batch_size,\n",
        "    shuffle=True,\n",
        "    pin_memory=True\n",
        ")\n",
        "\n",
        "test_dl = DataLoader(\n",
        "    test_ds,\n",
        "    batch_size=batch_size,\n",
        "    shuffle=False\n",
        ")"
      ],
      "metadata": {
        "id": "SthRV-M9kCtI"
      },
      "execution_count": 12,
      "outputs": []
    },
    {
      "cell_type": "code",
      "source": [
        "len(train_dl), len(test_dl)"
      ],
      "metadata": {
        "colab": {
          "base_uri": "https://localhost:8080/"
        },
        "id": "xMq719HVkV0w",
        "outputId": "08750c93-78bd-4940-c6f8-1ad7920c458b"
      },
      "execution_count": 13,
      "outputs": [
        {
          "output_type": "execute_result",
          "data": {
            "text/plain": [
              "(1875, 313)"
            ]
          },
          "metadata": {},
          "execution_count": 13
        }
      ]
    },
    {
      "cell_type": "code",
      "source": [
        "class Encoder(nn.Module):\n",
        "    def __init__(self):\n",
        "        super(Encoder, self).__init__()\n",
        "        self.encoder = nn.Sequential(\n",
        "            nn.Conv2d(1, 64, 3, stride=1, padding=1),\n",
        "            nn.BatchNorm2d(64),\n",
        "            nn.ReLU(),\n",
        "            nn.MaxPool2d(2, stride=2),\n",
        "            nn.Conv2d(64, 32, 3, stride=1, padding=1),\n",
        "            nn.BatchNorm2d(32),\n",
        "            nn.ReLU(),\n",
        "            nn.MaxPool2d(2, stride=2),\n",
        "            nn.Conv2d(32, 16, 3, stride=1, padding=1),\n",
        "            nn.BatchNorm2d(16),\n",
        "            nn.ReLU(),\n",
        "        )\n",
        "\n",
        "    def forward(self, inp):\n",
        "        return self.encoder(inp)\n",
        "\n",
        "encoder = Encoder()\n",
        "x = torch.rand(1, 1, 28, 28)\n",
        "print(\"Encoder input shape:\", x.shape)\n",
        "total_n_params = 0\n",
        "for layer in encoder.encoder:\n",
        "    x = layer(x)\n",
        "    n_params_per_layer = sum([n.numel() for n in layer.parameters()])\n",
        "    total_n_params += n_params_per_layer\n",
        "    print(f\"{layer._get_name():<15}: {str(x.shape):<30}: {n_params_per_layer:<10}\")\n",
        "print(f\"Total number of parameters: {total_n_params}\")\n",
        "print(\"Encoder output shape:\", encoder(torch.rand(1, 1, 28, 28)).shape)"
      ],
      "metadata": {
        "colab": {
          "base_uri": "https://localhost:8080/"
        },
        "id": "61Fm0oyTkgU4",
        "outputId": "59aa1caf-906f-4838-b3bf-a317a2b4f8a3"
      },
      "execution_count": 14,
      "outputs": [
        {
          "output_type": "stream",
          "name": "stdout",
          "text": [
            "Encoder input shape: torch.Size([1, 1, 28, 28])\n",
            "Conv2d         : torch.Size([1, 64, 28, 28])   : 640       \n",
            "BatchNorm2d    : torch.Size([1, 64, 28, 28])   : 128       \n",
            "ReLU           : torch.Size([1, 64, 28, 28])   : 0         \n",
            "MaxPool2d      : torch.Size([1, 64, 14, 14])   : 0         \n",
            "Conv2d         : torch.Size([1, 32, 14, 14])   : 18464     \n",
            "BatchNorm2d    : torch.Size([1, 32, 14, 14])   : 64        \n",
            "ReLU           : torch.Size([1, 32, 14, 14])   : 0         \n",
            "MaxPool2d      : torch.Size([1, 32, 7, 7])     : 0         \n",
            "Conv2d         : torch.Size([1, 16, 7, 7])     : 4624      \n",
            "BatchNorm2d    : torch.Size([1, 16, 7, 7])     : 32        \n",
            "ReLU           : torch.Size([1, 16, 7, 7])     : 0         \n",
            "Total number of parameters: 23952\n",
            "Encoder output shape: torch.Size([1, 16, 7, 7])\n"
          ]
        }
      ]
    },
    {
      "cell_type": "code",
      "source": [
        "class Decoder(nn.Module):\n",
        "    def __init__(self):\n",
        "        super(Decoder, self).__init__()\n",
        "        self.decoder = nn.Sequential(\n",
        "            nn.Conv2d(16, 32, 3, stride=1, padding=1),\n",
        "            nn.BatchNorm2d(32),\n",
        "            nn.ReLU(),\n",
        "            nn.Upsample(scale_factor=2),\n",
        "            nn.Conv2d(32, 64, 3, stride=1, padding=1),\n",
        "            nn.BatchNorm2d(64),\n",
        "            nn.ReLU(),\n",
        "            nn.Upsample(scale_factor=2),\n",
        "            nn.Conv2d(64, 1, 3, stride=1, padding=1),\n",
        "            nn.Sigmoid()\n",
        "        )\n",
        "\n",
        "    def forward(self, inp):\n",
        "        return self.decoder(inp)\n",
        "\n",
        "decoder = Decoder()\n",
        "total_n_params = 0\n",
        "print(\"Decoder input shape:\", x.shape)\n",
        "for layer in decoder.decoder:\n",
        "    x = layer(x)\n",
        "    n_params_per_layer= sum([n.numel() for n in layer.parameters()])\n",
        "    total_n_params += n_params_per_layer\n",
        "    print(f\"{layer._get_name():<15}: {x.shape} : {n_params_per_layer:<10}\")\n",
        "print(f\"Total number of parameters: {total_n_params}\")\n",
        "print()"
      ],
      "metadata": {
        "colab": {
          "base_uri": "https://localhost:8080/"
        },
        "id": "smJ2Jww6mUTH",
        "outputId": "ede73971-95d4-4458-f525-6869d321c649"
      },
      "execution_count": 15,
      "outputs": [
        {
          "output_type": "stream",
          "name": "stdout",
          "text": [
            "Decoder input shape: torch.Size([1, 16, 7, 7])\n",
            "Conv2d         : torch.Size([1, 32, 7, 7]) : 4640      \n",
            "BatchNorm2d    : torch.Size([1, 32, 7, 7]) : 64        \n",
            "ReLU           : torch.Size([1, 32, 7, 7]) : 0         \n",
            "Upsample       : torch.Size([1, 32, 14, 14]) : 0         \n",
            "Conv2d         : torch.Size([1, 64, 14, 14]) : 18496     \n",
            "BatchNorm2d    : torch.Size([1, 64, 14, 14]) : 128       \n",
            "ReLU           : torch.Size([1, 64, 14, 14]) : 0         \n",
            "Upsample       : torch.Size([1, 64, 28, 28]) : 0         \n",
            "Conv2d         : torch.Size([1, 1, 28, 28]) : 577       \n",
            "Sigmoid        : torch.Size([1, 1, 28, 28]) : 0         \n",
            "Total number of parameters: 23905\n",
            "\n"
          ]
        }
      ]
    },
    {
      "cell_type": "code",
      "source": [
        "class AutoEncoder(nn.Module):\n",
        "    def __init__(self):\n",
        "        super(AutoEncoder, self).__init__()\n",
        "        self.encoder = Encoder()\n",
        "        self.decoder = Decoder()\n",
        "\n",
        "    def forward(self, inp):\n",
        "        x = self.encoder(inp)\n",
        "        x = self.decoder(x)\n",
        "        return x\n",
        "\n",
        "model = AutoEncoder()\n",
        "print(\"Autoencoder Output shape:\", model(torch.rand(1, 1, 28, 28)).shape)\n",
        "print(sum([x.numel() for x in model.parameters()]))"
      ],
      "metadata": {
        "colab": {
          "base_uri": "https://localhost:8080/"
        },
        "id": "1JIkiDfCm76C",
        "outputId": "465be2c5-b158-4f7f-a5d8-88ed76edb50d"
      },
      "execution_count": 16,
      "outputs": [
        {
          "output_type": "stream",
          "name": "stdout",
          "text": [
            "Autoencoder Output shape: torch.Size([1, 1, 28, 28])\n",
            "47857\n"
          ]
        }
      ]
    },
    {
      "cell_type": "code",
      "source": [
        "class EarlyStopperMinDelta:\n",
        "    def __init__(self, patience=1, min_delta=0, after_epoch=0):\n",
        "        self.patience = patience\n",
        "        self.min_delta = min_delta\n",
        "        self.after_epoch = after_epoch\n",
        "        self.counter = 0\n",
        "        self.min_validation_loss = float('inf')\n",
        "        self.saved_state_dict = None\n",
        "\n",
        "    def early_stop(self, validation_loss, state_dict, epoch=float('inf')):\n",
        "        if epoch > self.after_epoch and validation_loss < self.min_validation_loss:\n",
        "            self.min_validation_loss = validation_loss\n",
        "            self.counter = 0\n",
        "            self.saved_state_dict = state_dict\n",
        "        elif epoch > self.after_epoch and validation_loss > (self.min_validation_loss + self.min_delta):\n",
        "            self.counter += 1\n",
        "            if self.counter >= self.patience:\n",
        "                return True\n",
        "        return False\n",
        "\n",
        "early_stopper = EarlyStopperMinDelta(patience=5, min_delta=0.0001, after_epoch=10)"
      ],
      "metadata": {
        "id": "JuDdzU7MooQc"
      },
      "execution_count": 17,
      "outputs": []
    },
    {
      "cell_type": "code",
      "source": [
        "model = AutoEncoder().to(device)\n",
        "criterion = nn.MSELoss()\n",
        "optimizer = torch.optim.AdamW(model.parameters(), lr=1e-4, weight_decay=1e-5)"
      ],
      "metadata": {
        "id": "zJUJmiRhn921"
      },
      "execution_count": 18,
      "outputs": []
    },
    {
      "cell_type": "code",
      "source": [
        "n_epochs = 500\n",
        "for epoch in range(n_epochs):\n",
        "    print(f\"EPOCH {epoch+1}\")\n",
        "\n",
        "    print(\"Training...\")\n",
        "    avg_train_loss = 0.0\n",
        "    model.train()\n",
        "    for noisy, clean in train_dl:\n",
        "        noisy = noisy.to(device)\n",
        "        clean = clean.to(device)\n",
        "        optimizer.zero_grad()\n",
        "        out = model(noisy)\n",
        "        loss = criterion(out, clean)\n",
        "        loss.backward()\n",
        "        optimizer.step()\n",
        "        avg_train_loss += loss.item()\n",
        "    avg_train_loss /= len(train_dl)\n",
        "    print(\"Avg train loss:\", avg_train_loss)\n",
        "\n",
        "    print(\"Validating...\")\n",
        "    avg_val_loss = 0.0\n",
        "    model.eval()\n",
        "    with torch.no_grad():\n",
        "        for noisy, clean in test_dl:\n",
        "            noisy = noisy.to(device)\n",
        "            clean = clean.to(device)\n",
        "            out = model(noisy)\n",
        "            loss = criterion(out, clean)\n",
        "            avg_val_loss += loss.item()\n",
        "    avg_val_loss /= len(test_dl)\n",
        "    print(\"Avg val loss:\", avg_val_loss)\n",
        "\n",
        "    if early_stopper.early_stop(avg_val_loss, model.state_dict(), epoch):\n",
        "        print(f\"Early stopped at epoch {epoch+1}\")\n",
        "        model.load_state_dict(early_stopper.saved_state_dict)\n",
        "        break\n",
        "    print(\"-\" * 80)"
      ],
      "metadata": {
        "colab": {
          "base_uri": "https://localhost:8080/",
          "height": 1000
        },
        "id": "j226rAvSoKLE",
        "outputId": "2a1e3254-15ff-49f3-ef8f-e93e2a1ed49a"
      },
      "execution_count": 19,
      "outputs": [
        {
          "output_type": "stream",
          "name": "stdout",
          "text": [
            "EPOCH 1\n",
            "Training...\n",
            "Avg train loss: 0.014396872648348411\n",
            "Validating...\n",
            "Avg val loss: 0.005732215017068405\n",
            "--------------------------------------------------------------------------------\n",
            "EPOCH 2\n",
            "Training...\n",
            "Avg train loss: 0.005328846991683046\n",
            "Validating...\n",
            "Avg val loss: 0.00457722044805773\n",
            "--------------------------------------------------------------------------------\n",
            "EPOCH 3\n",
            "Training...\n",
            "Avg train loss: 0.004587098725140095\n",
            "Validating...\n",
            "Avg val loss: 0.004338772861084666\n",
            "--------------------------------------------------------------------------------\n",
            "EPOCH 4\n",
            "Training...\n",
            "Avg train loss: 0.004239713711291552\n",
            "Validating...\n",
            "Avg val loss: 0.0038917934865699694\n",
            "--------------------------------------------------------------------------------\n",
            "EPOCH 5\n",
            "Training...\n",
            "Avg train loss: 0.003990278578425447\n",
            "Validating...\n",
            "Avg val loss: 0.003709692749739312\n",
            "--------------------------------------------------------------------------------\n",
            "EPOCH 6\n",
            "Training...\n",
            "Avg train loss: 0.0038268198408186434\n",
            "Validating...\n",
            "Avg val loss: 0.004233954875274731\n",
            "--------------------------------------------------------------------------------\n",
            "EPOCH 7\n",
            "Training...\n",
            "Avg train loss: 0.003707208967333039\n",
            "Validating...\n",
            "Avg val loss: 0.0034911334789849034\n",
            "--------------------------------------------------------------------------------\n",
            "EPOCH 8\n",
            "Training...\n",
            "Avg train loss: 0.003600497523943583\n",
            "Validating...\n",
            "Avg val loss: 0.0034300278955564714\n",
            "--------------------------------------------------------------------------------\n",
            "EPOCH 9\n",
            "Training...\n",
            "Avg train loss: 0.003536503130321701\n",
            "Validating...\n",
            "Avg val loss: 0.003342879967341503\n",
            "--------------------------------------------------------------------------------\n",
            "EPOCH 10\n",
            "Training...\n",
            "Avg train loss: 0.0034587562039494514\n",
            "Validating...\n",
            "Avg val loss: 0.0033236979023395733\n",
            "--------------------------------------------------------------------------------\n",
            "EPOCH 11\n",
            "Training...\n",
            "Avg train loss: 0.003398402586579323\n",
            "Validating...\n",
            "Avg val loss: 0.0032628328686716934\n",
            "--------------------------------------------------------------------------------\n",
            "EPOCH 12\n",
            "Training...\n",
            "Avg train loss: 0.0033522747110575437\n",
            "Validating...\n",
            "Avg val loss: 0.0032655291918355723\n",
            "--------------------------------------------------------------------------------\n",
            "EPOCH 13\n",
            "Training...\n",
            "Avg train loss: 0.0033106667689979078\n",
            "Validating...\n",
            "Avg val loss: 0.0032084922212512255\n",
            "--------------------------------------------------------------------------------\n",
            "EPOCH 14\n",
            "Training...\n",
            "Avg train loss: 0.0032757182590663434\n",
            "Validating...\n",
            "Avg val loss: 0.0031803839642126053\n",
            "--------------------------------------------------------------------------------\n",
            "EPOCH 15\n",
            "Training...\n",
            "Avg train loss: 0.0032413884016374746\n",
            "Validating...\n",
            "Avg val loss: 0.0031280464971789154\n",
            "--------------------------------------------------------------------------------\n",
            "EPOCH 16\n",
            "Training...\n",
            "Avg train loss: 0.0032165442275504273\n",
            "Validating...\n",
            "Avg val loss: 0.003102650586218118\n",
            "--------------------------------------------------------------------------------\n",
            "EPOCH 17\n",
            "Training...\n",
            "Avg train loss: 0.0031821536898612975\n",
            "Validating...\n",
            "Avg val loss: 0.0030928949324098734\n",
            "--------------------------------------------------------------------------------\n",
            "EPOCH 18\n",
            "Training...\n",
            "Avg train loss: 0.003163560067365567\n",
            "Validating...\n",
            "Avg val loss: 0.0030737064723758557\n",
            "--------------------------------------------------------------------------------\n",
            "EPOCH 19\n",
            "Training...\n",
            "Avg train loss: 0.0031380818015585344\n",
            "Validating...\n",
            "Avg val loss: 0.003154222599078958\n",
            "--------------------------------------------------------------------------------\n",
            "EPOCH 20\n",
            "Training...\n",
            "Avg train loss: 0.003112001140912374\n",
            "Validating...\n",
            "Avg val loss: 0.0030406280963744124\n",
            "--------------------------------------------------------------------------------\n",
            "EPOCH 21\n",
            "Training...\n",
            "Avg train loss: 0.0030994921879221996\n",
            "Validating...\n",
            "Avg val loss: 0.003037946013817058\n",
            "--------------------------------------------------------------------------------\n",
            "EPOCH 22\n",
            "Training...\n",
            "Avg train loss: 0.003078637198234598\n",
            "Validating...\n",
            "Avg val loss: 0.003029224990953367\n",
            "--------------------------------------------------------------------------------\n",
            "EPOCH 23\n",
            "Training...\n",
            "Avg train loss: 0.0030633940978596606\n",
            "Validating...\n",
            "Avg val loss: 0.0029938265356940393\n",
            "--------------------------------------------------------------------------------\n",
            "EPOCH 24\n",
            "Training...\n",
            "Avg train loss: 0.003049441698441903\n",
            "Validating...\n",
            "Avg val loss: 0.0029961598862986117\n",
            "--------------------------------------------------------------------------------\n",
            "EPOCH 25\n",
            "Training...\n",
            "Avg train loss: 0.0030304223106553158\n",
            "Validating...\n",
            "Avg val loss: 0.00297304989543919\n",
            "--------------------------------------------------------------------------------\n",
            "EPOCH 26\n",
            "Training...\n",
            "Avg train loss: 0.0030207242373377083\n",
            "Validating...\n",
            "Avg val loss: 0.0029504863037980687\n",
            "--------------------------------------------------------------------------------\n",
            "EPOCH 27\n",
            "Training...\n",
            "Avg train loss: 0.0030088880315423013\n",
            "Validating...\n",
            "Avg val loss: 0.0029441828217607337\n",
            "--------------------------------------------------------------------------------\n",
            "EPOCH 28\n",
            "Training...\n",
            "Avg train loss: 0.0029954705274353424\n",
            "Validating...\n",
            "Avg val loss: 0.002937091383547448\n",
            "--------------------------------------------------------------------------------\n",
            "EPOCH 29\n",
            "Training...\n",
            "Avg train loss: 0.002985202353571852\n",
            "Validating...\n",
            "Avg val loss: 0.002931050054681377\n",
            "--------------------------------------------------------------------------------\n",
            "EPOCH 30\n",
            "Training...\n",
            "Avg train loss: 0.0029775632961342733\n",
            "Validating...\n",
            "Avg val loss: 0.0029059934880608282\n",
            "--------------------------------------------------------------------------------\n",
            "EPOCH 31\n",
            "Training...\n",
            "Avg train loss: 0.0029686929501593112\n",
            "Validating...\n",
            "Avg val loss: 0.002904902335803825\n",
            "--------------------------------------------------------------------------------\n",
            "EPOCH 32\n",
            "Training...\n",
            "Avg train loss: 0.002958230483531952\n",
            "Validating...\n",
            "Avg val loss: 0.0030052834034216005\n",
            "--------------------------------------------------------------------------------\n",
            "EPOCH 33\n",
            "Training...\n",
            "Avg train loss: 0.002947281253958742\n",
            "Validating...\n",
            "Avg val loss: 0.0029458348942807498\n",
            "--------------------------------------------------------------------------------\n",
            "EPOCH 34\n",
            "Training...\n",
            "Avg train loss: 0.0029380357706298432\n",
            "Validating...\n",
            "Avg val loss: 0.0028918401059953454\n",
            "--------------------------------------------------------------------------------\n",
            "EPOCH 35\n",
            "Training...\n",
            "Avg train loss: 0.0029318152748048307\n",
            "Validating...\n",
            "Avg val loss: 0.00297326589607226\n",
            "--------------------------------------------------------------------------------\n",
            "EPOCH 36\n",
            "Training...\n",
            "Avg train loss: 0.0029205996225277584\n",
            "Validating...\n",
            "Avg val loss: 0.0028843229856734837\n",
            "--------------------------------------------------------------------------------\n",
            "EPOCH 37\n",
            "Training...\n",
            "Avg train loss: 0.0029223055277019737\n",
            "Validating...\n",
            "Avg val loss: 0.0028806439468476433\n",
            "--------------------------------------------------------------------------------\n",
            "EPOCH 38\n",
            "Training...\n",
            "Avg train loss: 0.002914237581565976\n",
            "Validating...\n",
            "Avg val loss: 0.002866106688047941\n",
            "--------------------------------------------------------------------------------\n",
            "EPOCH 39\n",
            "Training...\n",
            "Avg train loss: 0.0029064441416412593\n",
            "Validating...\n",
            "Avg val loss: 0.002874221494302344\n",
            "--------------------------------------------------------------------------------\n",
            "EPOCH 40\n",
            "Training...\n",
            "Avg train loss: 0.0028993465688079596\n",
            "Validating...\n",
            "Avg val loss: 0.0028428005243535527\n",
            "--------------------------------------------------------------------------------\n",
            "EPOCH 41\n",
            "Training...\n",
            "Avg train loss: 0.0028951341436554987\n",
            "Validating...\n",
            "Avg val loss: 0.0028468570366989784\n",
            "--------------------------------------------------------------------------------\n",
            "EPOCH 42\n",
            "Training...\n",
            "Avg train loss: 0.002887528572852413\n",
            "Validating...\n",
            "Avg val loss: 0.0028534174559060664\n",
            "--------------------------------------------------------------------------------\n",
            "EPOCH 43\n",
            "Training...\n",
            "Avg train loss: 0.0028808593639483055\n",
            "Validating...\n",
            "Avg val loss: 0.002839041947455595\n",
            "--------------------------------------------------------------------------------\n",
            "EPOCH 44\n",
            "Training...\n",
            "Avg train loss: 0.0028787993108232816\n",
            "Validating...\n",
            "Avg val loss: 0.002835054690696704\n",
            "--------------------------------------------------------------------------------\n",
            "EPOCH 45\n",
            "Training...\n",
            "Avg train loss: 0.002868753544986248\n",
            "Validating...\n",
            "Avg val loss: 0.002814293442555843\n",
            "--------------------------------------------------------------------------------\n",
            "EPOCH 46\n",
            "Training...\n",
            "Avg train loss: 0.0028668072662005823\n",
            "Validating...\n",
            "Avg val loss: 0.002821339231829483\n",
            "--------------------------------------------------------------------------------\n",
            "EPOCH 47\n",
            "Training...\n",
            "Avg train loss: 0.0028656998954713344\n",
            "Validating...\n",
            "Avg val loss: 0.002819307198295721\n",
            "--------------------------------------------------------------------------------\n",
            "EPOCH 48\n",
            "Training...\n",
            "Avg train loss: 0.0028584355211506286\n",
            "Validating...\n",
            "Avg val loss: 0.00280922209135831\n",
            "--------------------------------------------------------------------------------\n",
            "EPOCH 49\n",
            "Training...\n",
            "Avg train loss: 0.002850845253591736\n",
            "Validating...\n",
            "Avg val loss: 0.002817438776268603\n",
            "--------------------------------------------------------------------------------\n",
            "EPOCH 50\n",
            "Training...\n",
            "Avg train loss: 0.002843917594725887\n",
            "Validating...\n",
            "Avg val loss: 0.002807390949757288\n",
            "--------------------------------------------------------------------------------\n",
            "EPOCH 51\n",
            "Training...\n",
            "Avg train loss: 0.002841982870797316\n",
            "Validating...\n",
            "Avg val loss: 0.0027921692469713693\n",
            "--------------------------------------------------------------------------------\n",
            "EPOCH 52\n",
            "Training...\n",
            "Avg train loss: 0.002842014681423704\n",
            "Validating...\n",
            "Avg val loss: 0.002819160179505809\n",
            "--------------------------------------------------------------------------------\n",
            "EPOCH 53\n",
            "Training...\n",
            "Avg train loss: 0.002834935370956858\n",
            "Validating...\n",
            "Avg val loss: 0.0028192592746081255\n",
            "--------------------------------------------------------------------------------\n",
            "EPOCH 54\n",
            "Training...\n",
            "Avg train loss: 0.00283405290817221\n",
            "Validating...\n",
            "Avg val loss: 0.0028145017382055046\n",
            "--------------------------------------------------------------------------------\n",
            "EPOCH 55\n",
            "Training...\n",
            "Avg train loss: 0.0028249199935545524\n",
            "Validating...\n",
            "Avg val loss: 0.0027952662649781655\n",
            "--------------------------------------------------------------------------------\n",
            "EPOCH 56\n",
            "Training...\n",
            "Avg train loss: 0.0028228689124186832\n",
            "Validating...\n",
            "Avg val loss: 0.0028057901557689657\n",
            "--------------------------------------------------------------------------------\n",
            "EPOCH 57\n",
            "Training...\n",
            "Avg train loss: 0.0028231222803394\n",
            "Validating...\n",
            "Avg val loss: 0.0027768625357090094\n",
            "--------------------------------------------------------------------------------\n",
            "EPOCH 58\n",
            "Training...\n",
            "Avg train loss: 0.0028202012725174427\n",
            "Validating...\n",
            "Avg val loss: 0.0027822607908005153\n",
            "--------------------------------------------------------------------------------\n",
            "EPOCH 59\n",
            "Training...\n",
            "Avg train loss: 0.002815089069182674\n",
            "Validating...\n",
            "Avg val loss: 0.0027633637142257567\n",
            "--------------------------------------------------------------------------------\n",
            "EPOCH 60\n",
            "Training...\n",
            "Avg train loss: 0.002811065762490034\n",
            "Validating...\n",
            "Avg val loss: 0.0027672719008054215\n",
            "--------------------------------------------------------------------------------\n",
            "EPOCH 61\n",
            "Training...\n",
            "Avg train loss: 0.002807884157076478\n",
            "Validating...\n",
            "Avg val loss: 0.002799921653444727\n",
            "--------------------------------------------------------------------------------\n",
            "EPOCH 62\n",
            "Training...\n",
            "Avg train loss: 0.0028066465873271226\n",
            "Validating...\n",
            "Avg val loss: 0.0027788128732099604\n",
            "--------------------------------------------------------------------------------\n",
            "EPOCH 63\n",
            "Training...\n",
            "Avg train loss: 0.0028031971633434294\n",
            "Validating...\n",
            "Avg val loss: 0.002801917448711281\n",
            "--------------------------------------------------------------------------------\n",
            "EPOCH 64\n",
            "Training...\n",
            "Avg train loss: 0.0027969111930578948\n",
            "Validating...\n",
            "Avg val loss: 0.0027565467677201135\n",
            "--------------------------------------------------------------------------------\n",
            "EPOCH 65\n",
            "Training...\n",
            "Avg train loss: 0.0027996586746225753\n",
            "Validating...\n",
            "Avg val loss: 0.002780921923103757\n",
            "--------------------------------------------------------------------------------\n",
            "EPOCH 66\n",
            "Training...\n",
            "Avg train loss: 0.002792194173236688\n",
            "Validating...\n",
            "Avg val loss: 0.002748122109254947\n",
            "--------------------------------------------------------------------------------\n",
            "EPOCH 67\n",
            "Training...\n",
            "Avg train loss: 0.0027885559274504583\n",
            "Validating...\n",
            "Avg val loss: 0.002771488544099723\n",
            "--------------------------------------------------------------------------------\n",
            "EPOCH 68\n",
            "Training...\n",
            "Avg train loss: 0.0027880504962056875\n",
            "Validating...\n",
            "Avg val loss: 0.002742554823579356\n",
            "--------------------------------------------------------------------------------\n",
            "EPOCH 69\n",
            "Training...\n",
            "Avg train loss: 0.002783502121393879\n",
            "Validating...\n",
            "Avg val loss: 0.0027420678489898055\n",
            "--------------------------------------------------------------------------------\n",
            "EPOCH 70\n",
            "Training...\n",
            "Avg train loss: 0.002787914108236631\n",
            "Validating...\n",
            "Avg val loss: 0.0027508565102712795\n",
            "--------------------------------------------------------------------------------\n",
            "EPOCH 71\n",
            "Training...\n",
            "Avg train loss: 0.0027845220728466907\n",
            "Validating...\n",
            "Avg val loss: 0.002738834334948002\n",
            "--------------------------------------------------------------------------------\n",
            "EPOCH 72\n",
            "Training...\n",
            "Avg train loss: 0.002775356109191974\n",
            "Validating...\n",
            "Avg val loss: 0.0027450121263750253\n",
            "--------------------------------------------------------------------------------\n",
            "EPOCH 73\n",
            "Training...\n",
            "Avg train loss: 0.002773437426611781\n",
            "Validating...\n",
            "Avg val loss: 0.0027311582857677446\n",
            "--------------------------------------------------------------------------------\n",
            "EPOCH 74\n",
            "Training...\n",
            "Avg train loss: 0.002771496548379461\n",
            "Validating...\n",
            "Avg val loss: 0.002754019291404956\n",
            "--------------------------------------------------------------------------------\n",
            "EPOCH 75\n",
            "Training...\n",
            "Avg train loss: 0.002774981027469039\n",
            "Validating...\n",
            "Avg val loss: 0.0027529165184440704\n",
            "--------------------------------------------------------------------------------\n",
            "EPOCH 76\n",
            "Training...\n",
            "Avg train loss: 0.002773418073107799\n",
            "Validating...\n",
            "Avg val loss: 0.0027409806868400628\n",
            "--------------------------------------------------------------------------------\n",
            "EPOCH 77\n",
            "Training...\n",
            "Avg train loss: 0.0027651573774715266\n",
            "Validating...\n",
            "Avg val loss: 0.002728780112660731\n",
            "--------------------------------------------------------------------------------\n",
            "EPOCH 78\n",
            "Training...\n",
            "Avg train loss: 0.0027617350742220876\n",
            "Validating...\n",
            "Avg val loss: 0.0027400525770307823\n",
            "--------------------------------------------------------------------------------\n",
            "EPOCH 79\n",
            "Training...\n",
            "Avg train loss: 0.0027615100551396606\n",
            "Validating...\n",
            "Avg val loss: 0.0027565354906831877\n",
            "--------------------------------------------------------------------------------\n",
            "EPOCH 80\n",
            "Training...\n",
            "Avg train loss: 0.0027606332277258236\n",
            "Validating...\n",
            "Avg val loss: 0.002724765732991524\n",
            "--------------------------------------------------------------------------------\n",
            "EPOCH 81\n",
            "Training...\n",
            "Avg train loss: 0.0027570665057748554\n",
            "Validating...\n",
            "Avg val loss: 0.0027258561168330164\n",
            "--------------------------------------------------------------------------------\n",
            "EPOCH 82\n",
            "Training...\n",
            "Avg train loss: 0.002753906500339508\n",
            "Validating...\n",
            "Avg val loss: 0.002727831140333138\n",
            "--------------------------------------------------------------------------------\n",
            "EPOCH 83\n",
            "Training...\n",
            "Avg train loss: 0.002749230406805873\n",
            "Validating...\n",
            "Avg val loss: 0.0027319751568317127\n",
            "--------------------------------------------------------------------------------\n",
            "EPOCH 84\n",
            "Training...\n",
            "Avg train loss: 0.0027568739405522745\n",
            "Validating...\n",
            "Avg val loss: 0.0027284103113943683\n",
            "--------------------------------------------------------------------------------\n",
            "EPOCH 85\n",
            "Training...\n",
            "Avg train loss: 0.0027501818948735793\n",
            "Validating...\n",
            "Avg val loss: 0.0027478319137526777\n",
            "--------------------------------------------------------------------------------\n",
            "EPOCH 86\n",
            "Training...\n",
            "Avg train loss: 0.002746141944701473\n",
            "Validating...\n",
            "Avg val loss: 0.0027189045064389323\n",
            "--------------------------------------------------------------------------------\n",
            "EPOCH 87\n",
            "Training...\n",
            "Avg train loss: 0.0027486173403759796\n",
            "Validating...\n",
            "Avg val loss: 0.0027331069912225866\n",
            "--------------------------------------------------------------------------------\n",
            "EPOCH 88\n",
            "Training...\n",
            "Avg train loss: 0.002742271428058545\n",
            "Validating...\n",
            "Avg val loss: 0.00274590016030275\n",
            "--------------------------------------------------------------------------------\n",
            "EPOCH 89\n",
            "Training...\n",
            "Avg train loss: 0.002744224715853731\n",
            "Validating...\n",
            "Avg val loss: 0.0027065301171173683\n",
            "--------------------------------------------------------------------------------\n",
            "EPOCH 90\n",
            "Training...\n",
            "Avg train loss: 0.0027427484838912883\n",
            "Validating...\n"
          ]
        },
        {
          "output_type": "error",
          "ename": "KeyboardInterrupt",
          "evalue": "",
          "traceback": [
            "\u001b[0;31m---------------------------------------------------------------------------\u001b[0m",
            "\u001b[0;31mKeyboardInterrupt\u001b[0m                         Traceback (most recent call last)",
            "\u001b[0;32m<ipython-input-19-e69488ce7275>\u001b[0m in \u001b[0;36m<cell line: 2>\u001b[0;34m()\u001b[0m\n\u001b[1;32m     22\u001b[0m     \u001b[0mmodel\u001b[0m\u001b[0;34m.\u001b[0m\u001b[0meval\u001b[0m\u001b[0;34m(\u001b[0m\u001b[0;34m)\u001b[0m\u001b[0;34m\u001b[0m\u001b[0;34m\u001b[0m\u001b[0m\n\u001b[1;32m     23\u001b[0m     \u001b[0;32mwith\u001b[0m \u001b[0mtorch\u001b[0m\u001b[0;34m.\u001b[0m\u001b[0mno_grad\u001b[0m\u001b[0;34m(\u001b[0m\u001b[0;34m)\u001b[0m\u001b[0;34m:\u001b[0m\u001b[0;34m\u001b[0m\u001b[0;34m\u001b[0m\u001b[0m\n\u001b[0;32m---> 24\u001b[0;31m         \u001b[0;32mfor\u001b[0m \u001b[0mnoisy\u001b[0m\u001b[0;34m,\u001b[0m \u001b[0mclean\u001b[0m \u001b[0;32min\u001b[0m \u001b[0mtest_dl\u001b[0m\u001b[0;34m:\u001b[0m\u001b[0;34m\u001b[0m\u001b[0;34m\u001b[0m\u001b[0m\n\u001b[0m\u001b[1;32m     25\u001b[0m             \u001b[0mnoisy\u001b[0m \u001b[0;34m=\u001b[0m \u001b[0mnoisy\u001b[0m\u001b[0;34m.\u001b[0m\u001b[0mto\u001b[0m\u001b[0;34m(\u001b[0m\u001b[0mdevice\u001b[0m\u001b[0;34m)\u001b[0m\u001b[0;34m\u001b[0m\u001b[0;34m\u001b[0m\u001b[0m\n\u001b[1;32m     26\u001b[0m             \u001b[0mclean\u001b[0m \u001b[0;34m=\u001b[0m \u001b[0mclean\u001b[0m\u001b[0;34m.\u001b[0m\u001b[0mto\u001b[0m\u001b[0;34m(\u001b[0m\u001b[0mdevice\u001b[0m\u001b[0;34m)\u001b[0m\u001b[0;34m\u001b[0m\u001b[0;34m\u001b[0m\u001b[0m\n",
            "\u001b[0;32m/usr/local/lib/python3.10/dist-packages/torch/utils/data/dataloader.py\u001b[0m in \u001b[0;36m__next__\u001b[0;34m(self)\u001b[0m\n\u001b[1;32m    628\u001b[0m                 \u001b[0;31m# TODO(https://github.com/pytorch/pytorch/issues/76750)\u001b[0m\u001b[0;34m\u001b[0m\u001b[0;34m\u001b[0m\u001b[0m\n\u001b[1;32m    629\u001b[0m                 \u001b[0mself\u001b[0m\u001b[0;34m.\u001b[0m\u001b[0m_reset\u001b[0m\u001b[0;34m(\u001b[0m\u001b[0;34m)\u001b[0m  \u001b[0;31m# type: ignore[call-arg]\u001b[0m\u001b[0;34m\u001b[0m\u001b[0;34m\u001b[0m\u001b[0m\n\u001b[0;32m--> 630\u001b[0;31m             \u001b[0mdata\u001b[0m \u001b[0;34m=\u001b[0m \u001b[0mself\u001b[0m\u001b[0;34m.\u001b[0m\u001b[0m_next_data\u001b[0m\u001b[0;34m(\u001b[0m\u001b[0;34m)\u001b[0m\u001b[0;34m\u001b[0m\u001b[0;34m\u001b[0m\u001b[0m\n\u001b[0m\u001b[1;32m    631\u001b[0m             \u001b[0mself\u001b[0m\u001b[0;34m.\u001b[0m\u001b[0m_num_yielded\u001b[0m \u001b[0;34m+=\u001b[0m \u001b[0;36m1\u001b[0m\u001b[0;34m\u001b[0m\u001b[0;34m\u001b[0m\u001b[0m\n\u001b[1;32m    632\u001b[0m             \u001b[0;32mif\u001b[0m \u001b[0mself\u001b[0m\u001b[0;34m.\u001b[0m\u001b[0m_dataset_kind\u001b[0m \u001b[0;34m==\u001b[0m \u001b[0m_DatasetKind\u001b[0m\u001b[0;34m.\u001b[0m\u001b[0mIterable\u001b[0m \u001b[0;32mand\u001b[0m\u001b[0;31m \u001b[0m\u001b[0;31m\\\u001b[0m\u001b[0;34m\u001b[0m\u001b[0;34m\u001b[0m\u001b[0m\n",
            "\u001b[0;32m/usr/local/lib/python3.10/dist-packages/torch/utils/data/dataloader.py\u001b[0m in \u001b[0;36m_next_data\u001b[0;34m(self)\u001b[0m\n\u001b[1;32m    671\u001b[0m     \u001b[0;32mdef\u001b[0m \u001b[0m_next_data\u001b[0m\u001b[0;34m(\u001b[0m\u001b[0mself\u001b[0m\u001b[0;34m)\u001b[0m\u001b[0;34m:\u001b[0m\u001b[0;34m\u001b[0m\u001b[0;34m\u001b[0m\u001b[0m\n\u001b[1;32m    672\u001b[0m         \u001b[0mindex\u001b[0m \u001b[0;34m=\u001b[0m \u001b[0mself\u001b[0m\u001b[0;34m.\u001b[0m\u001b[0m_next_index\u001b[0m\u001b[0;34m(\u001b[0m\u001b[0;34m)\u001b[0m  \u001b[0;31m# may raise StopIteration\u001b[0m\u001b[0;34m\u001b[0m\u001b[0;34m\u001b[0m\u001b[0m\n\u001b[0;32m--> 673\u001b[0;31m         \u001b[0mdata\u001b[0m \u001b[0;34m=\u001b[0m \u001b[0mself\u001b[0m\u001b[0;34m.\u001b[0m\u001b[0m_dataset_fetcher\u001b[0m\u001b[0;34m.\u001b[0m\u001b[0mfetch\u001b[0m\u001b[0;34m(\u001b[0m\u001b[0mindex\u001b[0m\u001b[0;34m)\u001b[0m  \u001b[0;31m# may raise StopIteration\u001b[0m\u001b[0;34m\u001b[0m\u001b[0;34m\u001b[0m\u001b[0m\n\u001b[0m\u001b[1;32m    674\u001b[0m         \u001b[0;32mif\u001b[0m \u001b[0mself\u001b[0m\u001b[0;34m.\u001b[0m\u001b[0m_pin_memory\u001b[0m\u001b[0;34m:\u001b[0m\u001b[0;34m\u001b[0m\u001b[0;34m\u001b[0m\u001b[0m\n\u001b[1;32m    675\u001b[0m             \u001b[0mdata\u001b[0m \u001b[0;34m=\u001b[0m \u001b[0m_utils\u001b[0m\u001b[0;34m.\u001b[0m\u001b[0mpin_memory\u001b[0m\u001b[0;34m.\u001b[0m\u001b[0mpin_memory\u001b[0m\u001b[0;34m(\u001b[0m\u001b[0mdata\u001b[0m\u001b[0;34m,\u001b[0m \u001b[0mself\u001b[0m\u001b[0;34m.\u001b[0m\u001b[0m_pin_memory_device\u001b[0m\u001b[0;34m)\u001b[0m\u001b[0;34m\u001b[0m\u001b[0;34m\u001b[0m\u001b[0m\n",
            "\u001b[0;32m/usr/local/lib/python3.10/dist-packages/torch/utils/data/_utils/fetch.py\u001b[0m in \u001b[0;36mfetch\u001b[0;34m(self, possibly_batched_index)\u001b[0m\n\u001b[1;32m     50\u001b[0m                 \u001b[0mdata\u001b[0m \u001b[0;34m=\u001b[0m \u001b[0mself\u001b[0m\u001b[0;34m.\u001b[0m\u001b[0mdataset\u001b[0m\u001b[0;34m.\u001b[0m\u001b[0m__getitems__\u001b[0m\u001b[0;34m(\u001b[0m\u001b[0mpossibly_batched_index\u001b[0m\u001b[0;34m)\u001b[0m\u001b[0;34m\u001b[0m\u001b[0;34m\u001b[0m\u001b[0m\n\u001b[1;32m     51\u001b[0m             \u001b[0;32melse\u001b[0m\u001b[0;34m:\u001b[0m\u001b[0;34m\u001b[0m\u001b[0;34m\u001b[0m\u001b[0m\n\u001b[0;32m---> 52\u001b[0;31m                 \u001b[0mdata\u001b[0m \u001b[0;34m=\u001b[0m \u001b[0;34m[\u001b[0m\u001b[0mself\u001b[0m\u001b[0;34m.\u001b[0m\u001b[0mdataset\u001b[0m\u001b[0;34m[\u001b[0m\u001b[0midx\u001b[0m\u001b[0;34m]\u001b[0m \u001b[0;32mfor\u001b[0m \u001b[0midx\u001b[0m \u001b[0;32min\u001b[0m \u001b[0mpossibly_batched_index\u001b[0m\u001b[0;34m]\u001b[0m\u001b[0;34m\u001b[0m\u001b[0;34m\u001b[0m\u001b[0m\n\u001b[0m\u001b[1;32m     53\u001b[0m         \u001b[0;32melse\u001b[0m\u001b[0;34m:\u001b[0m\u001b[0;34m\u001b[0m\u001b[0;34m\u001b[0m\u001b[0m\n\u001b[1;32m     54\u001b[0m             \u001b[0mdata\u001b[0m \u001b[0;34m=\u001b[0m \u001b[0mself\u001b[0m\u001b[0;34m.\u001b[0m\u001b[0mdataset\u001b[0m\u001b[0;34m[\u001b[0m\u001b[0mpossibly_batched_index\u001b[0m\u001b[0;34m]\u001b[0m\u001b[0;34m\u001b[0m\u001b[0;34m\u001b[0m\u001b[0m\n",
            "\u001b[0;32m/usr/local/lib/python3.10/dist-packages/torch/utils/data/_utils/fetch.py\u001b[0m in \u001b[0;36m<listcomp>\u001b[0;34m(.0)\u001b[0m\n\u001b[1;32m     50\u001b[0m                 \u001b[0mdata\u001b[0m \u001b[0;34m=\u001b[0m \u001b[0mself\u001b[0m\u001b[0;34m.\u001b[0m\u001b[0mdataset\u001b[0m\u001b[0;34m.\u001b[0m\u001b[0m__getitems__\u001b[0m\u001b[0;34m(\u001b[0m\u001b[0mpossibly_batched_index\u001b[0m\u001b[0;34m)\u001b[0m\u001b[0;34m\u001b[0m\u001b[0;34m\u001b[0m\u001b[0m\n\u001b[1;32m     51\u001b[0m             \u001b[0;32melse\u001b[0m\u001b[0;34m:\u001b[0m\u001b[0;34m\u001b[0m\u001b[0;34m\u001b[0m\u001b[0m\n\u001b[0;32m---> 52\u001b[0;31m                 \u001b[0mdata\u001b[0m \u001b[0;34m=\u001b[0m \u001b[0;34m[\u001b[0m\u001b[0mself\u001b[0m\u001b[0;34m.\u001b[0m\u001b[0mdataset\u001b[0m\u001b[0;34m[\u001b[0m\u001b[0midx\u001b[0m\u001b[0;34m]\u001b[0m \u001b[0;32mfor\u001b[0m \u001b[0midx\u001b[0m \u001b[0;32min\u001b[0m \u001b[0mpossibly_batched_index\u001b[0m\u001b[0;34m]\u001b[0m\u001b[0;34m\u001b[0m\u001b[0;34m\u001b[0m\u001b[0m\n\u001b[0m\u001b[1;32m     53\u001b[0m         \u001b[0;32melse\u001b[0m\u001b[0;34m:\u001b[0m\u001b[0;34m\u001b[0m\u001b[0;34m\u001b[0m\u001b[0m\n\u001b[1;32m     54\u001b[0m             \u001b[0mdata\u001b[0m \u001b[0;34m=\u001b[0m \u001b[0mself\u001b[0m\u001b[0;34m.\u001b[0m\u001b[0mdataset\u001b[0m\u001b[0;34m[\u001b[0m\u001b[0mpossibly_batched_index\u001b[0m\u001b[0;34m]\u001b[0m\u001b[0;34m\u001b[0m\u001b[0;34m\u001b[0m\u001b[0m\n",
            "\u001b[0;32m<ipython-input-6-ac31682acfe9>\u001b[0m in \u001b[0;36m__getitem__\u001b[0;34m(self, index)\u001b[0m\n\u001b[1;32m     18\u001b[0m         \u001b[0mclean_img\u001b[0m\u001b[0;34m,\u001b[0m \u001b[0m_\u001b[0m \u001b[0;34m=\u001b[0m \u001b[0mself\u001b[0m\u001b[0;34m.\u001b[0m\u001b[0mmnist_df\u001b[0m\u001b[0;34m[\u001b[0m\u001b[0mindex\u001b[0m\u001b[0;34m]\u001b[0m\u001b[0;34m\u001b[0m\u001b[0;34m\u001b[0m\u001b[0m\n\u001b[1;32m     19\u001b[0m         \u001b[0mnoisy_img\u001b[0m \u001b[0;34m=\u001b[0m \u001b[0mclean_img\u001b[0m \u001b[0;34m+\u001b[0m \u001b[0mself\u001b[0m\u001b[0;34m.\u001b[0m\u001b[0mnoise_factor\u001b[0m \u001b[0;34m*\u001b[0m \u001b[0mtorch\u001b[0m\u001b[0;34m.\u001b[0m\u001b[0mrandn_like\u001b[0m\u001b[0;34m(\u001b[0m\u001b[0mclean_img\u001b[0m\u001b[0;34m)\u001b[0m\u001b[0;34m\u001b[0m\u001b[0;34m\u001b[0m\u001b[0m\n\u001b[0;32m---> 20\u001b[0;31m         \u001b[0mnoisy_img\u001b[0m \u001b[0;34m=\u001b[0m \u001b[0mtorch\u001b[0m\u001b[0;34m.\u001b[0m\u001b[0mclip\u001b[0m\u001b[0;34m(\u001b[0m\u001b[0mnoisy_img\u001b[0m\u001b[0;34m,\u001b[0m \u001b[0;36m0.0\u001b[0m\u001b[0;34m,\u001b[0m \u001b[0;36m1.0\u001b[0m\u001b[0;34m)\u001b[0m\u001b[0;34m\u001b[0m\u001b[0;34m\u001b[0m\u001b[0m\n\u001b[0m\u001b[1;32m     21\u001b[0m \u001b[0;34m\u001b[0m\u001b[0m\n\u001b[1;32m     22\u001b[0m         \u001b[0;32mreturn\u001b[0m \u001b[0;34m(\u001b[0m\u001b[0mnoisy_img\u001b[0m\u001b[0;34m,\u001b[0m \u001b[0mclean_img\u001b[0m\u001b[0;34m)\u001b[0m\u001b[0;34m\u001b[0m\u001b[0;34m\u001b[0m\u001b[0m\n",
            "\u001b[0;31mKeyboardInterrupt\u001b[0m: "
          ]
        }
      ]
    },
    {
      "cell_type": "code",
      "source": [
        "torch.save(model.state_dict(), \"model_sd.pth\")"
      ],
      "metadata": {
        "id": "D40zqvgSpHtg"
      },
      "execution_count": 20,
      "outputs": []
    },
    {
      "cell_type": "code",
      "source": [
        "model.eval()\n",
        "noisy, clean = train_ds[5]\n",
        "output = model(noisy.unsqueeze(0).to(device))\n",
        "compare_noisy_clean_output(noisy, clean, output)"
      ],
      "metadata": {
        "id": "ZwL4gmvfpHv5",
        "colab": {
          "base_uri": "https://localhost:8080/",
          "height": 380
        },
        "outputId": "52c6491d-de1f-4d43-ae16-f7b83359c260"
      },
      "execution_count": 21,
      "outputs": [
        {
          "output_type": "display_data",
          "data": {
            "text/plain": [
              "<Figure size 640x480 with 3 Axes>"
            ],
            "image/png": "[encoded data removed]"
          },
          "metadata": {}
        }
      ]
    },
    {
      "cell_type": "code",
      "source": [],
      "metadata": {
        "id": "eVhWswHnpHyH"
      },
      "execution_count": null,
      "outputs": []
    },
    {
      "cell_type": "code",
      "source": [],
      "metadata": {
        "id": "dzLMcPL6pH0D"
      },
      "execution_count": null,
      "outputs": []
    },
    {
      "cell_type": "code",
      "source": [],
      "metadata": {
        "id": "o_FAhMpvpH12"
      },
      "execution_count": null,
      "outputs": []
    },
    {
      "cell_type": "code",
      "source": [],
      "metadata": {
        "id": "vQ5BoYmgpH6o"
      },
      "execution_count": null,
      "outputs": []
    }
  ]
}