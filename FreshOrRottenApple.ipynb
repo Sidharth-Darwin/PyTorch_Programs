{
  "nbformat": 4,
  "nbformat_minor": 0,
  "metadata": {
    "colab": {
      "provenance": [],
      "gpuType": "T4",
      "include_colab_link": true
    },
    "kernelspec": {
      "name": "python3",
      "display_name": "Python 3"
    },
    "language_info": {
      "name": "python"
    },
    "accelerator": "GPU"
  },
  "cells": [
    {
      "cell_type": "markdown",
      "metadata": {
        "id": "view-in-github",
        "colab_type": "text"
      },
      "source": [
        "<a href=\"https://colab.research.google.com/github/Sidharth-Darwin/PyTorch_Programs/blob/main/FreshOrRottenApple.ipynb\" target=\"_parent\"><img src=\"https://colab.research.google.com/assets/colab-badge.svg\" alt=\"Open In Colab\"/></a>"
      ]
    },
    {
      "cell_type": "markdown",
      "source": [
        "# Problem\n",
        "A simple CNN model that can classify whether the input image of apple has is fresh or rotten."
      ],
      "metadata": {
        "id": "5M734XTMK7jj"
      }
    },
    {
      "cell_type": "code",
      "source": [
        "from google.colab import drive\n",
        "import os\n",
        "import shutil\n",
        "import json\n",
        "import glob\n",
        "from PIL import Image\n",
        "from collections import Counter\n",
        "import numpy as np\n",
        "import matplotlib.pyplot as plt"
      ],
      "metadata": {
        "id": "COri_vIkLjZe"
      },
      "execution_count": 1,
      "outputs": []
    },
    {
      "cell_type": "code",
      "source": [
        "import torch\n",
        "from torch import nn\n",
        "import torch.nn.functional as F\n",
        "from torch.utils.data import DataLoader, WeightedRandomSampler\n",
        "from torchsummary import summary\n",
        "import torchvision\n",
        "from torchvision.datasets import ImageFolder\n",
        "from torchvision.transforms import ToTensor, Resize, Compose, \\\n",
        "    RandomHorizontalFlip, RandomVerticalFlip, RandomRotation\n",
        "from torchvision.transforms.functional import pad"
      ],
      "metadata": {
        "id": "BICQF9lyLFVk"
      },
      "execution_count": 2,
      "outputs": []
    },
    {
      "cell_type": "code",
      "source": [
        "d_or_c_option = \"d\"\n",
        "d_or_c_name = \"srishtisharma9977/fresh-apple-vs-rotten-apple-classification\"\n",
        "\n",
        "os.system(\"pip install kaggle\")\n",
        "\n",
        "kaggle_key_path = \"/content/drive/MyDrive/Kaggle API Key/kaggle.json\"\n",
        "kaggle_key_dest = \"/.kaggle\"\n",
        "dataset_path = \"/content/data/\"\n",
        "\n",
        "if os.path.exists(dataset_path) is False:\n",
        "  if d_or_c_option:\n",
        "    d_or_c = d_or_c_option\n",
        "  else:\n",
        "    d_or_c = str.lower(input(\"Enter D for dataset or C for competition: \"))\n",
        "  if (d_or_c == 'd'):\n",
        "    if d_or_c_name:\n",
        "      d_name = d_or_c_name\n",
        "    else:\n",
        "      d_name = input(\"Enter the name of dataset in 'owner/dataset' format: \")\n",
        "  elif (d_or_c == 'c'):\n",
        "    if d_or_c_name:\n",
        "      c_name = d_or_c_name\n",
        "    else:\n",
        "      c_name = input(\"Enter the name of competition in 'owner/competition' format: \")\n",
        "  else:\n",
        "    print(\"Enter valid option!\")\n",
        "\n",
        "if os.path.exists(\"/content/drive\") is False:\n",
        "  drive.mount('/content/drive')\n",
        "  print(\"Drive is ready to use!\")\n",
        "else:\n",
        "  print(\"Drive is already ready to use!\")\n",
        "\n",
        "if os.path.exists(os.path.join(kaggle_key_dest, \"kaggle.json\")) is False:\n",
        "  os.mkdir(kaggle_key_dest)\n",
        "  shutil.copy(kaggle_key_path, kaggle_key_dest)\n",
        "  os.chmod(os.path.join(kaggle_key_dest, \"kaggle.json\"), 600)\n",
        "  print(\"Kaggle api key is ready to use!\")\n",
        "else:\n",
        "  print(\"Kaggle api key is already ready to use!\")\n",
        "\n",
        "if os.path.exists(dataset_path) is False:\n",
        "  with open(os.path.join(kaggle_key_dest, \"kaggle.json\"), \"r\") as f:\n",
        "    data = json.load(f)\n",
        "  os.environ[\"KAGGLE_USERNAME\"] = data[\"username\"]\n",
        "  os.environ[\"KAGGLE_KEY\"] = data[\"key\"]\n",
        "  del data\n",
        "\n",
        "  import kaggle\n",
        "\n",
        "  kaggle.api.authenticate()\n",
        "  if (d_or_c == 'd'):\n",
        "    kaggle.api.dataset_download_files(\n",
        "      d_name,\n",
        "      path=dataset_path,\n",
        "      unzip=True\n",
        "    )\n",
        "    print(\"Data was downloaded!\")\n",
        "  elif (d_or_c == 'c'):\n",
        "    kaggle.api.competition_download_files(\n",
        "        c_name,\n",
        "        path=dataset_path\n",
        "    )\n",
        "    print(\"Data was downloaded!\")\n",
        "  else:\n",
        "    print(\"No data were downloaded!\")\n",
        "else:\n",
        "  print(\"Data is already available!\")"
      ],
      "metadata": {
        "colab": {
          "base_uri": "https://localhost:8080/"
        },
        "id": "u0J8EQg1LTyx",
        "outputId": "2be4afa1-f17a-4839-c23d-576de4be4e93"
      },
      "execution_count": 3,
      "outputs": [
        {
          "output_type": "stream",
          "name": "stdout",
          "text": [
            "Drive is already ready to use!\n",
            "Kaggle api key is already ready to use!\n",
            "Data is already available!\n"
          ]
        }
      ]
    },
    {
      "cell_type": "code",
      "source": [
        "device = \"cuda\" if torch.cuda.is_available() else \"cpu\"\n",
        "device"
      ],
      "metadata": {
        "colab": {
          "base_uri": "https://localhost:8080/",
          "height": 35
        },
        "id": "N2yRZRS8wNtj",
        "outputId": "b231b2ee-66c1-48cd-9978-fc9fb1b5a29d"
      },
      "execution_count": 4,
      "outputs": [
        {
          "output_type": "execute_result",
          "data": {
            "text/plain": [
              "'cuda'"
            ],
            "application/vnd.google.colaboratory.intrinsic+json": {
              "type": "string"
            }
          },
          "metadata": {},
          "execution_count": 4
        }
      ]
    },
    {
      "cell_type": "code",
      "source": [
        "batch_size = 32\n",
        "n_epochs = 100"
      ],
      "metadata": {
        "id": "5gFtFa1Pz_5L"
      },
      "execution_count": 5,
      "outputs": []
    },
    {
      "cell_type": "code",
      "source": [
        "image_types = {}\n",
        "img_widths = []\n",
        "img_heights = []\n",
        "\n",
        "for path in glob.glob(os.path.join(dataset_path, \"Apple vs Rotten Classification/train\")+\"/*/*.*\"):\n",
        "    img_type =  path.split(\".\")[-1]\n",
        "    image_types[img_type] = image_types.get(img_type, 0) + 1\n",
        "    try:\n",
        "        img = Image.open(path)\n",
        "        width, height = img.size\n",
        "        img_widths.append(width)\n",
        "        img_heights.append(height)\n",
        "    except:\n",
        "        print(\"Faulty img: \", path)\n",
        "\n",
        "for path in glob.glob(os.path.join(dataset_path, \"Apple vs Rotten Classification/validation\")+\"/*/*.*\"):\n",
        "    img_type =  path.split(\".\")[-1]\n",
        "    image_types[img_type] = image_types.get(img_type, 0) + 1\n",
        "    try:\n",
        "        img = Image.open(path)\n",
        "        width, height = img.size\n",
        "        img_widths.append(width)\n",
        "        img_heights.append(height)\n",
        "    except:\n",
        "        print(\"Faulty img: \", path)\n",
        "\n",
        "image_types"
      ],
      "metadata": {
        "colab": {
          "base_uri": "https://localhost:8080/"
        },
        "id": "af9WVR6OM66h",
        "outputId": "d6a84ccc-9aba-4e19-df06-b34000df38f6"
      },
      "execution_count": 6,
      "outputs": [
        {
          "output_type": "execute_result",
          "data": {
            "text/plain": [
              "{'png': 4151}"
            ]
          },
          "metadata": {},
          "execution_count": 6
        }
      ]
    },
    {
      "cell_type": "markdown",
      "source": [
        "All images are of png format."
      ],
      "metadata": {
        "id": "24j3Af3QOaU9"
      }
    },
    {
      "cell_type": "code",
      "source": [
        "img_widths = np.array(img_widths)\n",
        "img_heights = np.array(img_heights)\n",
        "fig, axs = plt.subplots(2, 1)\n",
        "axs[0].hist(img_heights)\n",
        "axs[0].set_title(\"Height\")\n",
        "axs[1].hist(img_widths)\n",
        "axs[1].set_title(\"Width\")\n",
        "fig.tight_layout()\n",
        "plt.show()"
      ],
      "metadata": {
        "colab": {
          "base_uri": "https://localhost:8080/",
          "height": 486
        },
        "id": "CgD7v5VnPE3N",
        "outputId": "9a9cc13e-106d-4392-bc73-5514b80d4a67"
      },
      "execution_count": 7,
      "outputs": [
        {
          "output_type": "display_data",
          "data": {
            "text/plain": [
              "<Figure size 640x480 with 2 Axes>"
            ],
            "image/png": "[encoded data removed]"
          },
          "metadata": {}
        }
      ]
    },
    {
      "cell_type": "code",
      "source": [
        "print(\"Minimum \")\n",
        "print(\"Height:\", img_heights.min())\n",
        "print(\"Width:\", img_widths.min())\n",
        "print(\"Mean \")\n",
        "print(\"Height:\", img_heights.mean())\n",
        "print(\"Width:\", img_widths.mean())\n",
        "print(\"Median \")\n",
        "print(\"Height:\", np.median(img_heights))\n",
        "print(\"Width:\", np.median(img_widths))"
      ],
      "metadata": {
        "colab": {
          "base_uri": "https://localhost:8080/"
        },
        "id": "fA86Zu7OQJRY",
        "outputId": "18af541e-5425-44ce-f898-888c68904f03"
      },
      "execution_count": 8,
      "outputs": [
        {
          "output_type": "stream",
          "name": "stdout",
          "text": [
            "Minimum \n",
            "Height: 142\n",
            "Width: 150\n",
            "Mean \n",
            "Height: 351.32160925078296\n",
            "Width: 366.8349795230065\n",
            "Median \n",
            "Height: 366.0\n",
            "Width: 380.0\n"
          ]
        }
      ]
    },
    {
      "cell_type": "markdown",
      "source": [
        "Most of the images are of height and width around 350 but there are a lot of images having height and width less than 200 but greater than 150, so to be conservative ill reshape all images to height and width 150. And since we are dealing with a simple classification model, it should work pretty well."
      ],
      "metadata": {
        "id": "MDf1V_Q8QVlb"
      }
    },
    {
      "cell_type": "markdown",
      "source": [
        "Since the dataset is imbalanced in nature, we have to deal with it. One way is to sample it in a balanced way."
      ],
      "metadata": {
        "id": "Fi0BZ1R9pTIV"
      }
    },
    {
      "cell_type": "code",
      "source": [
        "train_data_temp = ImageFolder(root=os.path.join(dataset_path, \"Apple vs Rotten Classification/train\"))\n",
        "train_labels = np.fromiter(map(lambda x: train_data_temp[x][1], range(0, len(train_data_temp))), dtype=np.int32)\n",
        "del train_data_temp"
      ],
      "metadata": {
        "id": "_xgSGl2tpRkv"
      },
      "execution_count": 9,
      "outputs": []
    },
    {
      "cell_type": "markdown",
      "source": [
        "We got all the labels of training data. Next we take the weight using that."
      ],
      "metadata": {
        "id": "oNI_8MnSpwsZ"
      }
    },
    {
      "cell_type": "code",
      "source": [
        "unique, counts = np.unique(train_labels, return_counts=True)\n",
        "unique, counts"
      ],
      "metadata": {
        "colab": {
          "base_uri": "https://localhost:8080/"
        },
        "id": "IBoLDQfOpv1W",
        "outputId": "f514282a-db51-42fe-ea98-d7783f60da29"
      },
      "execution_count": 10,
      "outputs": [
        {
          "output_type": "execute_result",
          "data": {
            "text/plain": [
              "(array([0, 1], dtype=int32), array([1670, 2354]))"
            ]
          },
          "metadata": {},
          "execution_count": 10
        }
      ]
    },
    {
      "cell_type": "code",
      "source": [
        "weight = 1. / counts\n",
        "weight"
      ],
      "metadata": {
        "colab": {
          "base_uri": "https://localhost:8080/"
        },
        "id": "GWhKUK8drNMv",
        "outputId": "e6847537-982e-4cf5-c588-87b24d5da09d"
      },
      "execution_count": 11,
      "outputs": [
        {
          "output_type": "execute_result",
          "data": {
            "text/plain": [
              "array([0.0005988 , 0.00042481])"
            ]
          },
          "metadata": {},
          "execution_count": 11
        }
      ]
    },
    {
      "cell_type": "code",
      "source": [
        "train_labels_weight = np.where(train_labels==0, weight[0], weight[1])\n",
        "train_labels_weight"
      ],
      "metadata": {
        "colab": {
          "base_uri": "https://localhost:8080/"
        },
        "id": "gOCHlQzirgu7",
        "outputId": "6fae78e4-acad-4908-bf63-61dbf398e9b4"
      },
      "execution_count": 12,
      "outputs": [
        {
          "output_type": "execute_result",
          "data": {
            "text/plain": [
              "array([0.0005988 , 0.0005988 , 0.0005988 , ..., 0.00042481, 0.00042481,\n",
              "       0.00042481])"
            ]
          },
          "metadata": {},
          "execution_count": 12
        }
      ]
    },
    {
      "cell_type": "code",
      "source": [
        "generator = torch.Generator(device='cpu')\n",
        "generator.manual_seed(0)\n",
        "sampler = WeightedRandomSampler(\n",
        "    torch.from_numpy(train_labels_weight),\n",
        "    len(train_labels_weight),\n",
        "    replacement=True,\n",
        "    generator=generator\n",
        ")\n",
        "sampler"
      ],
      "metadata": {
        "colab": {
          "base_uri": "https://localhost:8080/"
        },
        "id": "7dMQaWtLsJJ_",
        "outputId": "9a2b3e91-6956-40d2-9fe0-d98f8af2790c"
      },
      "execution_count": 13,
      "outputs": [
        {
          "output_type": "execute_result",
          "data": {
            "text/plain": [
              "<torch.utils.data.sampler.WeightedRandomSampler at 0x780d49c52020>"
            ]
          },
          "metadata": {},
          "execution_count": 13
        }
      ]
    },
    {
      "cell_type": "markdown",
      "source": [
        "Padding images so that resize won't distort the aspect ratio of apple images."
      ],
      "metadata": {
        "id": "xSr1MB5wtdGD"
      }
    },
    {
      "cell_type": "code",
      "source": [
        "class SquarePad:\n",
        "\tdef __call__(self, image):\n",
        "\t\tw, h = image.size\n",
        "\t\tmax_wh = np.max([w, h])\n",
        "\t\thp = int((max_wh - w) / 2)\n",
        "\t\tvp = int((max_wh - h) / 2)\n",
        "\t\tpadding = (hp, vp, hp, vp)\n",
        "\t\treturn pad(img=image, padding=padding, fill=0, padding_mode='constant')"
      ],
      "metadata": {
        "id": "XzCeRVCZS7_a"
      },
      "execution_count": 14,
      "outputs": []
    },
    {
      "cell_type": "code",
      "source": [
        "image_transforms_train = Compose([\n",
        "    RandomRotation((0, 180), fill=0),\n",
        "    SquarePad(),\n",
        "    RandomHorizontalFlip(0.5),\n",
        "    RandomVerticalFlip(0.5),\n",
        "    Resize((150, 150)),\n",
        "    ToTensor()\n",
        "])\n",
        "\n",
        "image_transforms_test = Compose([\n",
        "    SquarePad(),\n",
        "    Resize((150, 150)),\n",
        "    ToTensor()\n",
        "])\n",
        "\n",
        "train_data = ImageFolder(\n",
        "    root=os.path.join(dataset_path, \"Apple vs Rotten Classification/train\"),\n",
        "    transform=image_transforms_train\n",
        ")\n",
        "\n",
        "val_data = ImageFolder(\n",
        "    root=os.path.join(dataset_path, \"Apple vs Rotten Classification/validation\"),\n",
        "    transform=image_transforms_test\n",
        ")\n",
        "\n",
        "test_data = ImageFolder(\n",
        "    root=os.path.join(dataset_path, \"Apple vs Rotten Classification/test\"),\n",
        "    transform=image_transforms_test\n",
        ")"
      ],
      "metadata": {
        "id": "lHER2wt9L9B5"
      },
      "execution_count": 15,
      "outputs": []
    },
    {
      "cell_type": "code",
      "source": [
        "label_dict = {\n",
        "    0: \"Fresh\",\n",
        "    1: \"Rotten\"\n",
        "}\n",
        "\n",
        "img, label = val_data[np.random.randint(0, len(val_data))]\n",
        "plt.imshow(img.permute(1, 2, 0).cpu().numpy())\n",
        "plt.title(label_dict[label])\n",
        "plt.axis(False)\n",
        "plt.show()"
      ],
      "metadata": {
        "colab": {
          "base_uri": "https://localhost:8080/",
          "height": 428
        },
        "id": "4dx8m5PcMgUS",
        "outputId": "c7b9bd3b-60ec-4959-b2ea-a3eac8e0fe7b"
      },
      "execution_count": 16,
      "outputs": [
        {
          "output_type": "display_data",
          "data": {
            "text/plain": [
              "<Figure size 640x480 with 1 Axes>"
            ],
            "image/png": "[encoded data removed]"
          },
          "metadata": {}
        }
      ]
    },
    {
      "cell_type": "code",
      "source": [
        "train_loader = DataLoader(\n",
        "    train_data,\n",
        "    batch_size=batch_size,\n",
        "    sampler=sampler\n",
        ")\n",
        "\n",
        "val_loader = DataLoader(\n",
        "    val_data,\n",
        "    batch_size=batch_size,\n",
        "    shuffle=False\n",
        ")\n",
        "\n",
        "test_loader = DataLoader(\n",
        "    test_data,\n",
        "    batch_size=batch_size,\n",
        "    shuffle=False\n",
        ")"
      ],
      "metadata": {
        "id": "hXc5ipTEMghM"
      },
      "execution_count": 17,
      "outputs": []
    },
    {
      "cell_type": "code",
      "source": [
        "val_data[0][0].shape"
      ],
      "metadata": {
        "colab": {
          "base_uri": "https://localhost:8080/"
        },
        "id": "VZxtvlq5U3xk",
        "outputId": "6f6df58b-04f2-4d7a-9f78-fce017df8a76"
      },
      "execution_count": 18,
      "outputs": [
        {
          "output_type": "execute_result",
          "data": {
            "text/plain": [
              "torch.Size([3, 150, 150])"
            ]
          },
          "metadata": {},
          "execution_count": 18
        }
      ]
    },
    {
      "cell_type": "code",
      "source": [
        "class FreshOrRottenAppleModel(nn.Module):\n",
        "    def __init__(self):\n",
        "        super(FreshOrRottenAppleModel, self).__init__()\n",
        "\n",
        "        self.conv_block1 = nn.Sequential(\n",
        "            nn.Conv2d(\n",
        "                in_channels=3,\n",
        "                out_channels=32,\n",
        "                kernel_size=(3, 3),\n",
        "                stride=1,\n",
        "                bias=False\n",
        "            ),\n",
        "            nn.BatchNorm2d(num_features=32),\n",
        "            nn.ReLU(),\n",
        "            nn.MaxPool2d(\n",
        "                kernel_size=(2, 2),\n",
        "                stride=2\n",
        "            )\n",
        "        )\n",
        "\n",
        "        self.conv_block2 = nn.Sequential(\n",
        "            nn.Conv2d(\n",
        "                in_channels=32,\n",
        "                out_channels=64,\n",
        "                kernel_size=(3, 3),\n",
        "                stride=1,\n",
        "                bias=False\n",
        "            ),\n",
        "            nn.BatchNorm2d(num_features=64),\n",
        "            nn.ReLU(),\n",
        "            nn.MaxPool2d(\n",
        "                kernel_size=(2, 2),\n",
        "                stride=2\n",
        "            )\n",
        "        )\n",
        "\n",
        "        self.conv_block3 = nn.Sequential(\n",
        "            nn.Conv2d(\n",
        "                in_channels=64,\n",
        "                out_channels=128,\n",
        "                kernel_size=(3, 3),\n",
        "                stride=1,\n",
        "                bias=False\n",
        "            ),\n",
        "            nn.BatchNorm2d(num_features=128),\n",
        "            nn.ReLU(),\n",
        "            nn.MaxPool2d(\n",
        "                kernel_size=(2, 2),\n",
        "                stride=2\n",
        "            )\n",
        "        )\n",
        "\n",
        "        self.conv_block4 = nn.Sequential(\n",
        "            nn.Conv2d(\n",
        "                in_channels=128,\n",
        "                out_channels=128,\n",
        "                kernel_size=(3, 3),\n",
        "                stride=1,\n",
        "                bias=False\n",
        "            ),\n",
        "            nn.BatchNorm2d(num_features=128),\n",
        "            nn.ReLU(),\n",
        "            nn.MaxPool2d(\n",
        "                kernel_size=(2, 2),\n",
        "                stride=2\n",
        "            ),\n",
        "            nn.Flatten()\n",
        "        )\n",
        "\n",
        "        self.dense_block1 = nn.Sequential(\n",
        "            nn.Dropout(0.2),\n",
        "            nn.Linear(in_features=128*7*7, out_features=512, bias=False),\n",
        "            nn.BatchNorm1d(num_features=512),\n",
        "            nn.ReLU()\n",
        "        )\n",
        "\n",
        "        self.dense_block2 = nn.Sequential(\n",
        "            nn.Dropout(0.2),\n",
        "            nn.Linear(in_features=512, out_features=256, bias=False),\n",
        "            nn.BatchNorm1d(num_features=256),\n",
        "            nn.ReLU()\n",
        "        )\n",
        "\n",
        "        self.dense_block3 = nn.Sequential(\n",
        "            nn.Linear(in_features=256, out_features=1)\n",
        "        )\n",
        "\n",
        "    def forward(self, x):\n",
        "        out = self.conv_block1(x)\n",
        "        out = self.conv_block2(out)\n",
        "        out = self.conv_block3(out)\n",
        "        out = self.conv_block4(out)\n",
        "        out = self.dense_block1(out)\n",
        "        out = self.dense_block2(out)\n",
        "        out = self.dense_block3(out)\n",
        "        return out"
      ],
      "metadata": {
        "id": "x8e1Yb90U3z9"
      },
      "execution_count": 19,
      "outputs": []
    },
    {
      "cell_type": "code",
      "source": [
        "model = FreshOrRottenAppleModel()\n",
        "model = model.to(device)"
      ],
      "metadata": {
        "id": "FUoHGFQTU33V"
      },
      "execution_count": 20,
      "outputs": []
    },
    {
      "cell_type": "code",
      "source": [
        "summary(model, (3, 150, 150))"
      ],
      "metadata": {
        "colab": {
          "base_uri": "https://localhost:8080/"
        },
        "id": "HsxZyisRgfAE",
        "outputId": "5367187e-df5a-4221-930e-170a7fc08a43"
      },
      "execution_count": 21,
      "outputs": [
        {
          "output_type": "stream",
          "name": "stdout",
          "text": [
            "----------------------------------------------------------------\n",
            "        Layer (type)               Output Shape         Param #\n",
            "================================================================\n",
            "            Conv2d-1         [-1, 32, 148, 148]             864\n",
            "       BatchNorm2d-2         [-1, 32, 148, 148]              64\n",
            "              ReLU-3         [-1, 32, 148, 148]               0\n",
            "         MaxPool2d-4           [-1, 32, 74, 74]               0\n",
            "            Conv2d-5           [-1, 64, 72, 72]          18,432\n",
            "       BatchNorm2d-6           [-1, 64, 72, 72]             128\n",
            "              ReLU-7           [-1, 64, 72, 72]               0\n",
            "         MaxPool2d-8           [-1, 64, 36, 36]               0\n",
            "            Conv2d-9          [-1, 128, 34, 34]          73,728\n",
            "      BatchNorm2d-10          [-1, 128, 34, 34]             256\n",
            "             ReLU-11          [-1, 128, 34, 34]               0\n",
            "        MaxPool2d-12          [-1, 128, 17, 17]               0\n",
            "           Conv2d-13          [-1, 128, 15, 15]         147,456\n",
            "      BatchNorm2d-14          [-1, 128, 15, 15]             256\n",
            "             ReLU-15          [-1, 128, 15, 15]               0\n",
            "        MaxPool2d-16            [-1, 128, 7, 7]               0\n",
            "          Flatten-17                 [-1, 6272]               0\n",
            "          Dropout-18                 [-1, 6272]               0\n",
            "           Linear-19                  [-1, 512]       3,211,264\n",
            "      BatchNorm1d-20                  [-1, 512]           1,024\n",
            "             ReLU-21                  [-1, 512]               0\n",
            "          Dropout-22                  [-1, 512]               0\n",
            "           Linear-23                  [-1, 256]         131,072\n",
            "      BatchNorm1d-24                  [-1, 256]             512\n",
            "             ReLU-25                  [-1, 256]               0\n",
            "           Linear-26                    [-1, 1]             257\n",
            "================================================================\n",
            "Total params: 3,585,313\n",
            "Trainable params: 3,585,313\n",
            "Non-trainable params: 0\n",
            "----------------------------------------------------------------\n",
            "Input size (MB): 0.26\n",
            "Forward/backward pass size (MB): 30.10\n",
            "Params size (MB): 13.68\n",
            "Estimated Total Size (MB): 44.03\n",
            "----------------------------------------------------------------\n"
          ]
        }
      ]
    },
    {
      "cell_type": "markdown",
      "source": [
        "\n",
        "Total params: 3,453,121\n",
        "\n",
        "Trainable params: 3,453,121\n",
        "\n",
        "Non-trainable params: 0\n",
        "\n",
        "Input size (MB): 0.26\n",
        "\n",
        "Forward/backward pass size (MB): 13.93\n",
        "\n",
        "Params size (MB): 13.17\n",
        "\n",
        "Estimated Total Size (MB): 27.36\n"
      ],
      "metadata": {
        "id": "7YwKqaZzji7Z"
      }
    },
    {
      "cell_type": "code",
      "source": [
        "loss_fn = nn.BCEWithLogitsLoss()\n",
        "optimizer = torch.optim.Adam(model.parameters(), lr=1e-3, weight_decay=1e-5)"
      ],
      "metadata": {
        "id": "Warf0Si2lqHl"
      },
      "execution_count": 22,
      "outputs": []
    },
    {
      "cell_type": "code",
      "source": [
        "def train(loader, model, loss_fn, optimizer):\n",
        "    model.train()\n",
        "    n_samples = 0\n",
        "    print(\"Training ...\")\n",
        "    for batch_no, (images, labels) in enumerate(loader):\n",
        "        images = images.to(device)\n",
        "        labels = labels.float().to(device)\n",
        "        logits = model(images).squeeze()\n",
        "        loss = loss_fn(logits, labels)\n",
        "        optimizer.zero_grad()\n",
        "        loss.backward()\n",
        "        optimizer.step()\n",
        "        n_samples += len(labels)\n",
        "        if batch_no % 25 == 0:\n",
        "            print(f\"\\t[{(batch_no+1)*len(images)}/{n_samples}] Loss: {loss.item():.4f}\")\n",
        "    print(f\"\\t[{n_samples}/{n_samples}] Loss: {loss.item():.3f}\")"
      ],
      "metadata": {
        "id": "YxELFzeKjKlW"
      },
      "execution_count": 23,
      "outputs": []
    },
    {
      "cell_type": "code",
      "source": [
        "def test(loader, model, loss_fn):\n",
        "    model.eval()\n",
        "    n_correct = 0\n",
        "    n_samples = 0\n",
        "    cum_loss = 0\n",
        "    print(\"Testing ...\")\n",
        "    with torch.inference_mode():\n",
        "        for batch_no, (images, labels) in enumerate(loader):\n",
        "            images = images.to(device)\n",
        "            labels = labels.float().to(device)\n",
        "            logits = model(images).squeeze()\n",
        "            loss = loss_fn(logits, labels)\n",
        "            cum_loss += loss.item()\n",
        "            pred = torch.round(torch.sigmoid(logits))\n",
        "            n_correct += (pred == labels).type(torch.float).sum().item()\n",
        "            n_samples += len(pred)\n",
        "        avg_loss = (cum_loss/n_samples)\n",
        "    print(f\"\\t[{n_samples}/{n_samples}] Loss: {avg_loss:.4f} | Accuracy: {(n_correct/n_samples)*100:.3f}%\")\n",
        "    return avg_loss"
      ],
      "metadata": {
        "id": "IkSFq_Xc33Ip"
      },
      "execution_count": 24,
      "outputs": []
    },
    {
      "cell_type": "code",
      "source": [
        "test(val_loader, model, loss_fn)"
      ],
      "metadata": {
        "colab": {
          "base_uri": "https://localhost:8080/"
        },
        "id": "U62IzYImnfCx",
        "outputId": "87ab7b4d-5393-48cc-cec4-76220c7031c4"
      },
      "execution_count": 25,
      "outputs": [
        {
          "output_type": "stream",
          "name": "stdout",
          "text": [
            "Testing ...\n",
            "\t[127/127] Loss: 0.0218 | Accuracy: 58.268%\n"
          ]
        },
        {
          "output_type": "execute_result",
          "data": {
            "text/plain": [
              "0.021756950795181154"
            ]
          },
          "metadata": {},
          "execution_count": 25
        }
      ]
    },
    {
      "cell_type": "code",
      "source": [
        "prev_loss = 9999\n",
        "saved_state_dict = None\n",
        "for e in range(n_epochs):\n",
        "    print(f\"Epoch {e+1}\")\n",
        "    train(train_loader, model, loss_fn, optimizer)\n",
        "    loss = test(val_loader, model, loss_fn)\n",
        "    if loss > prev_loss:\n",
        "        break\n",
        "    saved_state_dict = model.state_dict()\n",
        "    prev_loss = loss\n",
        "    print(\"-\"*80)"
      ],
      "metadata": {
        "colab": {
          "base_uri": "https://localhost:8080/"
        },
        "id": "J6S9ZCCF2sMg",
        "outputId": "ed93127e-3740-4d6d-8ceb-8a6b7fa38fe9"
      },
      "execution_count": 26,
      "outputs": [
        {
          "output_type": "stream",
          "name": "stdout",
          "text": [
            "Epoch 1\n",
            "Training ...\n",
            "\t[32/32] Loss: 0.7321\n",
            "\t[832/832] Loss: 0.2356\n",
            "\t[1632/1632] Loss: 0.2456\n",
            "\t[2432/2432] Loss: 0.0830\n",
            "\t[3232/3232] Loss: 0.1924\n",
            "\t[3024/4024] Loss: 0.1839\n",
            "\t[4024/4024] Loss: 0.184\n",
            "Testing ...\n",
            "\t[127/127] Loss: 0.0074 | Accuracy: 88.189%\n",
            "--------------------------------------------------------------------------------\n",
            "Epoch 2\n",
            "Training ...\n",
            "\t[32/32] Loss: 0.4188\n",
            "\t[832/832] Loss: 0.0876\n",
            "\t[1632/1632] Loss: 0.1097\n",
            "\t[2432/2432] Loss: 0.0491\n",
            "\t[3232/3232] Loss: 0.0849\n",
            "\t[3024/4024] Loss: 0.0742\n",
            "\t[4024/4024] Loss: 0.074\n",
            "Testing ...\n",
            "\t[127/127] Loss: 0.0071 | Accuracy: 88.976%\n",
            "--------------------------------------------------------------------------------\n",
            "Epoch 3\n",
            "Training ...\n",
            "\t[32/32] Loss: 0.1120\n",
            "\t[832/832] Loss: 0.0273\n",
            "\t[1632/1632] Loss: 0.0386\n",
            "\t[2432/2432] Loss: 0.3870\n",
            "\t[3232/3232] Loss: 0.0663\n",
            "\t[3024/4024] Loss: 0.0285\n",
            "\t[4024/4024] Loss: 0.028\n",
            "Testing ...\n",
            "\t[127/127] Loss: 0.0022 | Accuracy: 98.425%\n",
            "--------------------------------------------------------------------------------\n",
            "Epoch 4\n",
            "Training ...\n",
            "\t[32/32] Loss: 0.0557\n",
            "\t[832/832] Loss: 0.0744\n",
            "\t[1632/1632] Loss: 0.0421\n",
            "\t[2432/2432] Loss: 0.1074\n",
            "\t[3232/3232] Loss: 0.0933\n",
            "\t[3024/4024] Loss: 0.0801\n",
            "\t[4024/4024] Loss: 0.080\n",
            "Testing ...\n",
            "\t[127/127] Loss: 0.0039 | Accuracy: 94.488%\n"
          ]
        }
      ]
    },
    {
      "cell_type": "code",
      "source": [
        "model.load_state_dict(saved_state_dict)"
      ],
      "metadata": {
        "colab": {
          "base_uri": "https://localhost:8080/"
        },
        "id": "BC-2PjrNVKWt",
        "outputId": "df682445-2d69-4e2a-d5ad-78fc25f10d72"
      },
      "execution_count": 27,
      "outputs": [
        {
          "output_type": "execute_result",
          "data": {
            "text/plain": [
              "<All keys matched successfully>"
            ]
          },
          "metadata": {},
          "execution_count": 27
        }
      ]
    },
    {
      "cell_type": "code",
      "source": [
        "test(train_loader, model, loss_fn)"
      ],
      "metadata": {
        "colab": {
          "base_uri": "https://localhost:8080/"
        },
        "id": "WkgssDozLhMm",
        "outputId": "57efd936-2f2e-4c3e-f4a9-ad397328654e"
      },
      "execution_count": 28,
      "outputs": [
        {
          "output_type": "stream",
          "name": "stdout",
          "text": [
            "Testing ...\n",
            "\t[4024/4024] Loss: 0.0060 | Accuracy: 90.905%\n"
          ]
        },
        {
          "output_type": "execute_result",
          "data": {
            "text/plain": [
              "0.006002153295405194"
            ]
          },
          "metadata": {},
          "execution_count": 28
        }
      ]
    },
    {
      "cell_type": "code",
      "source": [
        "test(val_loader, model, loss_fn)"
      ],
      "metadata": {
        "colab": {
          "base_uri": "https://localhost:8080/"
        },
        "id": "ylZ-sdC9Ly0S",
        "outputId": "904bbcab-77c4-4007-b948-6469b4ae18c4"
      },
      "execution_count": 29,
      "outputs": [
        {
          "output_type": "stream",
          "name": "stdout",
          "text": [
            "Testing ...\n",
            "\t[127/127] Loss: 0.0039 | Accuracy: 94.488%\n"
          ]
        },
        {
          "output_type": "execute_result",
          "data": {
            "text/plain": [
              "0.0038965577919652145"
            ]
          },
          "metadata": {},
          "execution_count": 29
        }
      ]
    },
    {
      "cell_type": "code",
      "source": [
        "test(test_loader, model, loss_fn)"
      ],
      "metadata": {
        "id": "NLsksPNeycA5",
        "colab": {
          "base_uri": "https://localhost:8080/"
        },
        "outputId": "66847cd1-a3cf-4329-dae6-4a97e51e22ad"
      },
      "execution_count": 30,
      "outputs": [
        {
          "output_type": "stream",
          "name": "stdout",
          "text": [
            "Testing ...\n",
            "\t[880/880] Loss: 0.0048 | Accuracy: 93.409%\n"
          ]
        },
        {
          "output_type": "execute_result",
          "data": {
            "text/plain": [
              "0.004796842093161434"
            ]
          },
          "metadata": {},
          "execution_count": 30
        }
      ]
    },
    {
      "cell_type": "code",
      "source": [],
      "metadata": {
        "id": "1S1LV5WxLjCp"
      },
      "execution_count": 30,
      "outputs": []
    }
  ]
}